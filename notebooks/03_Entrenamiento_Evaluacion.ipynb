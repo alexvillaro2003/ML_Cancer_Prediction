{
 "cells": [
  {
   "cell_type": "markdown",
   "metadata": {},
   "source": [
    "___\n",
    "<h3 style=\"text-align:center;\">⚠️ Entrenamiento de <u>modelos</u> ⚠️\n",
    "</h3>\n",
    "\n",
    "---"
   ]
  },
  {
   "cell_type": "markdown",
   "metadata": {},
   "source": [
    "<h3 style=\"text-align:center;\">📚🔧\n",
    "</h3>"
   ]
  },
  {
   "cell_type": "code",
   "execution_count": 30,
   "metadata": {},
   "outputs": [],
   "source": [
    "# Importacion de Librerías:\n",
    "import pandas as pd\n",
    "import numpy as np\n",
    "\n",
    "from sklearn.model_selection import RandomizedSearchCV\n",
    "from sklearn.tree import DecisionTreeClassifier\n",
    "from sklearn.linear_model import LogisticRegression\n",
    "from sklearn.svm import SVC\n",
    "from sklearn.ensemble import RandomForestClassifier\n",
    "from sklearn.metrics import classification_report\n",
    "from sklearn.metrics import accuracy_score, precision_score, recall_score, confusion_matrix\n",
    "\n",
    "import pickle\n",
    "import yaml"
   ]
  },
  {
   "cell_type": "markdown",
   "metadata": {},
   "source": [
    "---\n",
    "**<h3 style=\"text-align:center;\">📚🔧: División: <u>X_train</u> , <u>y_train</u> , <u>X_test</u> , <u>y_test</u></h3>**"
   ]
  },
  {
   "cell_type": "markdown",
   "metadata": {},
   "source": [
    "**X_train + y_train:**"
   ]
  },
  {
   "cell_type": "code",
   "execution_count": 2,
   "metadata": {},
   "outputs": [],
   "source": [
    "df_train = pd.read_csv('../data/train.csv', index_col='Unnamed: 0')\n",
    "\n",
    "X_train = df_train.drop('Diagnosis', axis=1)\n",
    "y_train = df_train['Diagnosis']"
   ]
  },
  {
   "cell_type": "markdown",
   "metadata": {},
   "source": [
    "**X_test + y_test:**"
   ]
  },
  {
   "cell_type": "code",
   "execution_count": 3,
   "metadata": {},
   "outputs": [],
   "source": [
    "df_test = pd.read_csv('../data/test.csv', index_col='Unnamed: 0')\n",
    "\n",
    "X_test = df_test.drop('Diagnosis', axis=1)\n",
    "y_test = df_test['Diagnosis']"
   ]
  },
  {
   "cell_type": "markdown",
   "metadata": {},
   "source": [
    "**☑️ Check Dimensiones:**"
   ]
  },
  {
   "cell_type": "code",
   "execution_count": 4,
   "metadata": {},
   "outputs": [
    {
     "name": "stdout",
     "output_type": "stream",
     "text": [
      "Forma de X_train: (1125, 10)\n",
      "Forma de y_train: (1125,)\n",
      "Forma de X_test: (375, 10)\n",
      "Forma de y_test: (375,)\n"
     ]
    }
   ],
   "source": [
    "# Forma de variables de entrenamiento y comevaluación:\n",
    "print('Forma de X_train:', X_train.shape)\n",
    "print('Forma de y_train:', y_train.shape)\n",
    "print('Forma de X_test:', X_test.shape)\n",
    "print('Forma de y_test:', y_test.shape)"
   ]
  },
  {
   "cell_type": "markdown",
   "metadata": {},
   "source": [
    "---\n",
    "**<h3 style=\"text-align:center;\">🤖¹ : <u>DecisionTreeClassifier</u>🌳 +  <u>RandomizedSearchCV</u>🔄</h3>**"
   ]
  },
  {
   "cell_type": "markdown",
   "metadata": {},
   "source": [
    "**🏋️‍♂️ Entrenamiento:**"
   ]
  },
  {
   "cell_type": "code",
   "execution_count": 12,
   "metadata": {},
   "outputs": [
    {
     "name": "stdout",
     "output_type": "stream",
     "text": [
      "Mejores parámetros: {'min_samples_split': np.int64(7), 'min_samples_leaf': np.int64(5), 'max_depth': np.int64(15), 'criterion': 'entropy'}\n",
      "Mejor puntuación de validación: 0.8168674698795181\n"
     ]
    }
   ],
   "source": [
    "modelo_dtc = DecisionTreeClassifier()\n",
    "\n",
    "\n",
    "params_dtc = {\n",
    "    'max_depth': np.arange(1, 20),\n",
    "    'min_samples_split': np.arange(2, 20),\n",
    "    'min_samples_leaf': np.arange(1, 20),\n",
    "    'criterion': ['gini', 'entropy']\n",
    "}\n",
    "\n",
    "rs_dtc = RandomizedSearchCV(\n",
    "    modelo_dtc, param_distributions=params_dtc,\n",
    "    n_iter=50, scoring='recall', cv=5, random_state=42, n_jobs=-1\n",
    ")\n",
    "\n",
    "rs_dtc.fit(X_train, y_train)\n",
    "\n",
    "print(\"Mejores parámetros:\", rs_dtc.best_params_)\n",
    "print(\"Mejor puntuación de validación:\", rs_dtc.best_score_)"
   ]
  },
  {
   "cell_type": "markdown",
   "metadata": {},
   "source": [
    "**🔮 Predicciones:**"
   ]
  },
  {
   "cell_type": "code",
   "execution_count": 13,
   "metadata": {},
   "outputs": [
    {
     "data": {
      "text/html": [
       "<div>\n",
       "<style scoped>\n",
       "    .dataframe tbody tr th:only-of-type {\n",
       "        vertical-align: middle;\n",
       "    }\n",
       "\n",
       "    .dataframe tbody tr th {\n",
       "        vertical-align: top;\n",
       "    }\n",
       "\n",
       "    .dataframe thead th {\n",
       "        text-align: right;\n",
       "    }\n",
       "</style>\n",
       "<table border=\"1\" class=\"dataframe\">\n",
       "  <thead>\n",
       "    <tr style=\"text-align: right;\">\n",
       "      <th></th>\n",
       "      <th>y_real</th>\n",
       "      <th>y_pred</th>\n",
       "    </tr>\n",
       "  </thead>\n",
       "  <tbody>\n",
       "    <tr>\n",
       "      <th>1116</th>\n",
       "      <td>1</td>\n",
       "      <td>1</td>\n",
       "    </tr>\n",
       "    <tr>\n",
       "      <th>1368</th>\n",
       "      <td>1</td>\n",
       "      <td>1</td>\n",
       "    </tr>\n",
       "    <tr>\n",
       "      <th>422</th>\n",
       "      <td>0</td>\n",
       "      <td>0</td>\n",
       "    </tr>\n",
       "    <tr>\n",
       "      <th>413</th>\n",
       "      <td>0</td>\n",
       "      <td>0</td>\n",
       "    </tr>\n",
       "    <tr>\n",
       "      <th>451</th>\n",
       "      <td>0</td>\n",
       "      <td>0</td>\n",
       "    </tr>\n",
       "    <tr>\n",
       "      <th>...</th>\n",
       "      <td>...</td>\n",
       "      <td>...</td>\n",
       "    </tr>\n",
       "    <tr>\n",
       "      <th>155</th>\n",
       "      <td>1</td>\n",
       "      <td>1</td>\n",
       "    </tr>\n",
       "    <tr>\n",
       "      <th>1151</th>\n",
       "      <td>0</td>\n",
       "      <td>0</td>\n",
       "    </tr>\n",
       "    <tr>\n",
       "      <th>1141</th>\n",
       "      <td>0</td>\n",
       "      <td>0</td>\n",
       "    </tr>\n",
       "    <tr>\n",
       "      <th>974</th>\n",
       "      <td>0</td>\n",
       "      <td>1</td>\n",
       "    </tr>\n",
       "    <tr>\n",
       "      <th>1057</th>\n",
       "      <td>0</td>\n",
       "      <td>0</td>\n",
       "    </tr>\n",
       "  </tbody>\n",
       "</table>\n",
       "<p>375 rows × 2 columns</p>\n",
       "</div>"
      ],
      "text/plain": [
       "      y_real  y_pred\n",
       "1116       1       1\n",
       "1368       1       1\n",
       "422        0       0\n",
       "413        0       0\n",
       "451        0       0\n",
       "...      ...     ...\n",
       "155        1       1\n",
       "1151       0       0\n",
       "1141       0       0\n",
       "974        0       1\n",
       "1057       0       0\n",
       "\n",
       "[375 rows x 2 columns]"
      ]
     },
     "execution_count": 13,
     "metadata": {},
     "output_type": "execute_result"
    }
   ],
   "source": [
    "best_dtc = rs_dtc.best_estimator_\n",
    "\n",
    "pred_dtc = best_dtc.predict(X_test)\n",
    "\n",
    "df_predicciones_dtc = pd.DataFrame({'y_real': y_test,  \n",
    "                                'y_pred': pred_dtc})\n",
    "\n",
    "df_predicciones_dtc"
   ]
  },
  {
   "cell_type": "markdown",
   "metadata": {},
   "source": [
    "**✔️ Evaluación:**"
   ]
  },
  {
   "cell_type": "code",
   "execution_count": 14,
   "metadata": {},
   "outputs": [
    {
     "name": "stdout",
     "output_type": "stream",
     "text": [
      "accuracy: 0.8826666666666667\n",
      "recall: 0.795774647887324\n",
      "precission: 0.8828125\n",
      "\n",
      "----------------------------------------------\n",
      "\n",
      "confusion_matrix:\n",
      " [[218  15]\n",
      " [ 29 113]]\n"
     ]
    }
   ],
   "source": [
    "print('accuracy:',accuracy_score(y_test, pred_dtc))\n",
    "print('recall:',recall_score(y_test,pred_dtc))\n",
    "print('precission:', precision_score(y_test, pred_dtc))\n",
    "\n",
    "print('\\n----------------------------------------------\\n')\n",
    "\n",
    "print('confusion_matrix:\\n',confusion_matrix(y_test, pred_dtc))"
   ]
  },
  {
   "cell_type": "code",
   "execution_count": 15,
   "metadata": {},
   "outputs": [
    {
     "name": "stdout",
     "output_type": "stream",
     "text": [
      "              precision    recall  f1-score   support\n",
      "\n",
      "           0       0.88      0.94      0.91       233\n",
      "           1       0.88      0.80      0.84       142\n",
      "\n",
      "    accuracy                           0.88       375\n",
      "   macro avg       0.88      0.87      0.87       375\n",
      "weighted avg       0.88      0.88      0.88       375\n",
      "\n"
     ]
    }
   ],
   "source": [
    "print(classification_report(y_test, pred_dtc))"
   ]
  },
  {
   "cell_type": "markdown",
   "metadata": {},
   "source": [
    "**💾 Guardar Modelo + Config:**"
   ]
  },
  {
   "cell_type": "code",
   "execution_count": 16,
   "metadata": {},
   "outputs": [],
   "source": [
    "with open('../models/DecisionTree_RandomizedSearchCV/model_DTCRSCV.pkl', 'wb') as archivo:\n",
    "    pickle.dump(best_dtc, archivo)"
   ]
  },
  {
   "cell_type": "code",
   "execution_count": 17,
   "metadata": {},
   "outputs": [],
   "source": [
    "configuracion = {\n",
    "    'modelo': 'DecisionTreeClassifier',\n",
    "    'mejores_parametros': rs_dtc.best_params_,\n",
    "    'mejor_puntuacion': rs_dtc.best_score_,\n",
    "    'configuracion_busqueda': {\n",
    "        'n_iter': 50,\n",
    "        'scoring': 'recall',\n",
    "        'cv': 5,\n",
    "        'random_state': 42\n",
    "    }\n",
    "}\n",
    "\n",
    "with open('../models/DecisionTree_RandomizedSearchCV/config_DTCRSCV.yaml', 'w') as archivo:\n",
    "    yaml.dump(configuracion, archivo)"
   ]
  },
  {
   "cell_type": "markdown",
   "metadata": {},
   "source": [
    "---\n",
    "**<h3 style=\"text-align:center;\">🤖² : <u>RandomForestClassifier</u>🌳 +  <u>RandomizedSearchCV</u>🔄</h3>**"
   ]
  },
  {
   "cell_type": "markdown",
   "metadata": {},
   "source": [
    "**🏋️‍♂️ Entrenamiento:**"
   ]
  },
  {
   "cell_type": "code",
   "execution_count": 8,
   "metadata": {},
   "outputs": [
    {
     "name": "stdout",
     "output_type": "stream",
     "text": [
      "Mejores parámetros: {'n_estimators': np.int64(65), 'min_samples_split': np.int64(8), 'min_samples_leaf': np.int64(1), 'max_depth': np.int64(16), 'criterion': 'gini'}\n",
      "Mejor puntuación de validación: 0.8313253012048193\n"
     ]
    }
   ],
   "source": [
    "modelo_rf = RandomForestClassifier()\n",
    "\n",
    "params_rf = {\n",
    "    'n_estimators': np.arange(25,75),\n",
    "    'max_depth': np.arange(1, 20),\n",
    "    'min_samples_split': np.arange(2, 20),\n",
    "    'min_samples_leaf': np.arange(1, 20),\n",
    "    'criterion': ['gini', 'entropy']\n",
    "}\n",
    "\n",
    "rs_rf = RandomizedSearchCV(\n",
    "    modelo_rf, param_distributions=params_rf,\n",
    "    n_iter=50, scoring='recall', cv=5, random_state=42, n_jobs=-1\n",
    ")\n",
    "\n",
    "rs_rf.fit(X_train, y_train)\n",
    "\n",
    "print(\"Mejores parámetros:\", rs_rf.best_params_)\n",
    "print(\"Mejor puntuación de validación:\", rs_rf.best_score_)"
   ]
  },
  {
   "cell_type": "markdown",
   "metadata": {},
   "source": [
    "**🔮 Predicciones:**"
   ]
  },
  {
   "cell_type": "code",
   "execution_count": 9,
   "metadata": {},
   "outputs": [
    {
     "data": {
      "text/html": [
       "<div>\n",
       "<style scoped>\n",
       "    .dataframe tbody tr th:only-of-type {\n",
       "        vertical-align: middle;\n",
       "    }\n",
       "\n",
       "    .dataframe tbody tr th {\n",
       "        vertical-align: top;\n",
       "    }\n",
       "\n",
       "    .dataframe thead th {\n",
       "        text-align: right;\n",
       "    }\n",
       "</style>\n",
       "<table border=\"1\" class=\"dataframe\">\n",
       "  <thead>\n",
       "    <tr style=\"text-align: right;\">\n",
       "      <th></th>\n",
       "      <th>y_real</th>\n",
       "      <th>y_pred</th>\n",
       "    </tr>\n",
       "  </thead>\n",
       "  <tbody>\n",
       "    <tr>\n",
       "      <th>1116</th>\n",
       "      <td>1</td>\n",
       "      <td>1</td>\n",
       "    </tr>\n",
       "    <tr>\n",
       "      <th>1368</th>\n",
       "      <td>1</td>\n",
       "      <td>1</td>\n",
       "    </tr>\n",
       "    <tr>\n",
       "      <th>422</th>\n",
       "      <td>0</td>\n",
       "      <td>0</td>\n",
       "    </tr>\n",
       "    <tr>\n",
       "      <th>413</th>\n",
       "      <td>0</td>\n",
       "      <td>0</td>\n",
       "    </tr>\n",
       "    <tr>\n",
       "      <th>451</th>\n",
       "      <td>0</td>\n",
       "      <td>0</td>\n",
       "    </tr>\n",
       "    <tr>\n",
       "      <th>...</th>\n",
       "      <td>...</td>\n",
       "      <td>...</td>\n",
       "    </tr>\n",
       "    <tr>\n",
       "      <th>155</th>\n",
       "      <td>1</td>\n",
       "      <td>1</td>\n",
       "    </tr>\n",
       "    <tr>\n",
       "      <th>1151</th>\n",
       "      <td>0</td>\n",
       "      <td>0</td>\n",
       "    </tr>\n",
       "    <tr>\n",
       "      <th>1141</th>\n",
       "      <td>0</td>\n",
       "      <td>0</td>\n",
       "    </tr>\n",
       "    <tr>\n",
       "      <th>974</th>\n",
       "      <td>0</td>\n",
       "      <td>1</td>\n",
       "    </tr>\n",
       "    <tr>\n",
       "      <th>1057</th>\n",
       "      <td>0</td>\n",
       "      <td>0</td>\n",
       "    </tr>\n",
       "  </tbody>\n",
       "</table>\n",
       "<p>375 rows × 2 columns</p>\n",
       "</div>"
      ],
      "text/plain": [
       "      y_real  y_pred\n",
       "1116       1       1\n",
       "1368       1       1\n",
       "422        0       0\n",
       "413        0       0\n",
       "451        0       0\n",
       "...      ...     ...\n",
       "155        1       1\n",
       "1151       0       0\n",
       "1141       0       0\n",
       "974        0       1\n",
       "1057       0       0\n",
       "\n",
       "[375 rows x 2 columns]"
      ]
     },
     "execution_count": 9,
     "metadata": {},
     "output_type": "execute_result"
    }
   ],
   "source": [
    "best_rf = rs_rf.best_estimator_\n",
    "\n",
    "pred_rf = best_rf.predict(X_test)\n",
    "\n",
    "df_predicciones_rf = pd.DataFrame({'y_real': y_test,  \n",
    "                                'y_pred': pred_rf})\n",
    "\n",
    "df_predicciones_rf"
   ]
  },
  {
   "cell_type": "markdown",
   "metadata": {},
   "source": [
    "**✔️ Evaluación:**"
   ]
  },
  {
   "cell_type": "code",
   "execution_count": 10,
   "metadata": {},
   "outputs": [
    {
     "name": "stdout",
     "output_type": "stream",
     "text": [
      "accuracy: 0.9173333333333333\n",
      "recall: 0.8591549295774648\n",
      "precission: 0.9172932330827067\n",
      "\n",
      "----------------------------------------------\n",
      "\n",
      "confusion_matrix:\n",
      " [[222  11]\n",
      " [ 20 122]]\n"
     ]
    }
   ],
   "source": [
    "print('accuracy:',accuracy_score(y_test, pred_rf))\n",
    "print('recall:',recall_score(y_test, pred_rf))\n",
    "print('precission:', precision_score(y_test, pred_rf))\n",
    "\n",
    "print('\\n----------------------------------------------\\n')\n",
    "\n",
    "print('confusion_matrix:\\n',confusion_matrix(y_test, pred_rf))"
   ]
  },
  {
   "cell_type": "markdown",
   "metadata": {},
   "source": [
    "**💾 Guardar Modelo + Config:**"
   ]
  },
  {
   "cell_type": "code",
   "execution_count": 18,
   "metadata": {},
   "outputs": [],
   "source": [
    "with open('../models/RandomForest_RandomizedSearchCV/model_RFRSCV.pkl', 'wb') as archivo:\n",
    "    pickle.dump(best_rf, archivo)"
   ]
  },
  {
   "cell_type": "code",
   "execution_count": 19,
   "metadata": {},
   "outputs": [],
   "source": [
    "configuracion_rf = {\n",
    "    'modelo': 'RandomForestClassifier',\n",
    "    'mejores_parametros': rs_rf.best_params_,\n",
    "    'mejor_puntuacion': rs_rf.best_score_,\n",
    "    'configuracion_busqueda': {\n",
    "        'n_iter': 50,\n",
    "        'scoring': 'recall',\n",
    "        'cv': 5,\n",
    "        'random_state': 42\n",
    "    }\n",
    "}\n",
    "\n",
    "\n",
    "with open('../models/RandomForest_RandomizedSearchCV/config_RFRSCV.yaml', 'w') as archivo:\n",
    "    yaml.dump(configuracion, archivo)"
   ]
  },
  {
   "cell_type": "markdown",
   "metadata": {},
   "source": [
    "---\n",
    "**<h3 style=\"text-align:center;\">🤖³ : LogisticRegression </h3>**"
   ]
  },
  {
   "cell_type": "markdown",
   "metadata": {},
   "source": [
    "**🏋️‍♂️ Entrenamiento:**"
   ]
  },
  {
   "cell_type": "code",
   "execution_count": 25,
   "metadata": {},
   "outputs": [
    {
     "name": "stdout",
     "output_type": "stream",
     "text": [
      "Mejores parámetros: {'solver': 'liblinear', 'penalty': 'l1', 'C': np.float64(545.5594781168514)}\n",
      "Mejor puntuación de validación: 0.7903614457831326\n"
     ]
    },
    {
     "name": "stderr",
     "output_type": "stream",
     "text": [
      "c:\\Python312\\Lib\\site-packages\\sklearn\\model_selection\\_validation.py:540: FitFailedWarning: \n",
      "80 fits failed out of a total of 250.\n",
      "The score on these train-test partitions for these parameters will be set to nan.\n",
      "If these failures are not expected, you can try to debug them by setting error_score='raise'.\n",
      "\n",
      "Below are more details about the failures:\n",
      "--------------------------------------------------------------------------------\n",
      "30 fits failed with the following error:\n",
      "Traceback (most recent call last):\n",
      "  File \"c:\\Python312\\Lib\\site-packages\\sklearn\\model_selection\\_validation.py\", line 888, in _fit_and_score\n",
      "    estimator.fit(X_train, y_train, **fit_params)\n",
      "  File \"c:\\Python312\\Lib\\site-packages\\sklearn\\base.py\", line 1473, in wrapper\n",
      "    return fit_method(estimator, *args, **kwargs)\n",
      "           ^^^^^^^^^^^^^^^^^^^^^^^^^^^^^^^^^^^^^^\n",
      "  File \"c:\\Python312\\Lib\\site-packages\\sklearn\\linear_model\\_logistic.py\", line 1194, in fit\n",
      "    solver = _check_solver(self.solver, self.penalty, self.dual)\n",
      "             ^^^^^^^^^^^^^^^^^^^^^^^^^^^^^^^^^^^^^^^^^^^^^^^^^^^\n",
      "  File \"c:\\Python312\\Lib\\site-packages\\sklearn\\linear_model\\_logistic.py\", line 75, in _check_solver\n",
      "    raise ValueError(\n",
      "ValueError: Only 'saga' solver supports elasticnet penalty, got solver=liblinear.\n",
      "\n",
      "--------------------------------------------------------------------------------\n",
      "25 fits failed with the following error:\n",
      "Traceback (most recent call last):\n",
      "  File \"c:\\Python312\\Lib\\site-packages\\sklearn\\model_selection\\_validation.py\", line 888, in _fit_and_score\n",
      "    estimator.fit(X_train, y_train, **fit_params)\n",
      "  File \"c:\\Python312\\Lib\\site-packages\\sklearn\\base.py\", line 1473, in wrapper\n",
      "    return fit_method(estimator, *args, **kwargs)\n",
      "           ^^^^^^^^^^^^^^^^^^^^^^^^^^^^^^^^^^^^^^\n",
      "  File \"c:\\Python312\\Lib\\site-packages\\sklearn\\linear_model\\_logistic.py\", line 1204, in fit\n",
      "    raise ValueError(\"l1_ratio must be specified when penalty is elasticnet.\")\n",
      "ValueError: l1_ratio must be specified when penalty is elasticnet.\n",
      "\n",
      "--------------------------------------------------------------------------------\n",
      "25 fits failed with the following error:\n",
      "Traceback (most recent call last):\n",
      "  File \"c:\\Python312\\Lib\\site-packages\\sklearn\\model_selection\\_validation.py\", line 888, in _fit_and_score\n",
      "    estimator.fit(X_train, y_train, **fit_params)\n",
      "  File \"c:\\Python312\\Lib\\site-packages\\sklearn\\base.py\", line 1473, in wrapper\n",
      "    return fit_method(estimator, *args, **kwargs)\n",
      "           ^^^^^^^^^^^^^^^^^^^^^^^^^^^^^^^^^^^^^^\n",
      "  File \"c:\\Python312\\Lib\\site-packages\\sklearn\\linear_model\\_logistic.py\", line 1194, in fit\n",
      "    solver = _check_solver(self.solver, self.penalty, self.dual)\n",
      "             ^^^^^^^^^^^^^^^^^^^^^^^^^^^^^^^^^^^^^^^^^^^^^^^^^^^\n",
      "  File \"c:\\Python312\\Lib\\site-packages\\sklearn\\linear_model\\_logistic.py\", line 80, in _check_solver\n",
      "    raise ValueError(\"penalty=None is not supported for the liblinear solver\")\n",
      "ValueError: penalty=None is not supported for the liblinear solver\n",
      "\n",
      "  warnings.warn(some_fits_failed_message, FitFailedWarning)\n",
      "c:\\Python312\\Lib\\site-packages\\sklearn\\model_selection\\_search.py:1103: UserWarning: One or more of the test scores are non-finite: [0.73975904        nan        nan 0.73975904        nan        nan\n",
      "        nan 0.65783133        nan        nan 0.18554217        nan\n",
      " 0.73975904 0.74939759 0.                nan 0.79036145 0.73975904\n",
      " 0.79036145 0.         0.73493976 0.13975904        nan 0.\n",
      " 0.73975904 0.73975904 0.73975904 0.7060241  0.73975904 0.79036145\n",
      " 0.79036145        nan        nan 0.73975904 0.         0.73975904\n",
      "        nan 0.51807229        nan 0.79036145 0.32048193 0.79036145\n",
      " 0.78795181 0.79036145 0.79036145        nan 0.73975904        nan\n",
      " 0.73975904 0.73493976]\n",
      "  warnings.warn(\n"
     ]
    }
   ],
   "source": [
    "modelo_lr = LogisticRegression(max_iter=500)\n",
    "\n",
    "params_lr = {\n",
    "    'penalty': ['l1', 'l2', 'elasticnet', None],\n",
    "    'C': np.logspace(-4, 4, 20),\n",
    "    'solver': ['liblinear', 'saga']\n",
    "}\n",
    "\n",
    "rs_lr = RandomizedSearchCV(\n",
    "    modelo_lr, param_distributions=params_lr,\n",
    "    n_iter=50, scoring='recall', cv=5, random_state=42, n_jobs=-1\n",
    ")\n",
    "\n",
    "rs_lr.fit(X_train, y_train)\n",
    "\n",
    "print(\"Mejores parámetros:\", rs_lr.best_params_)\n",
    "print(\"Mejor puntuación de validación:\", rs_lr.best_score_)"
   ]
  },
  {
   "cell_type": "markdown",
   "metadata": {},
   "source": [
    "**🔮 Predicciones:**"
   ]
  },
  {
   "cell_type": "code",
   "execution_count": 26,
   "metadata": {},
   "outputs": [
    {
     "data": {
      "text/html": [
       "<div>\n",
       "<style scoped>\n",
       "    .dataframe tbody tr th:only-of-type {\n",
       "        vertical-align: middle;\n",
       "    }\n",
       "\n",
       "    .dataframe tbody tr th {\n",
       "        vertical-align: top;\n",
       "    }\n",
       "\n",
       "    .dataframe thead th {\n",
       "        text-align: right;\n",
       "    }\n",
       "</style>\n",
       "<table border=\"1\" class=\"dataframe\">\n",
       "  <thead>\n",
       "    <tr style=\"text-align: right;\">\n",
       "      <th></th>\n",
       "      <th>y_real</th>\n",
       "      <th>y_pred</th>\n",
       "    </tr>\n",
       "  </thead>\n",
       "  <tbody>\n",
       "    <tr>\n",
       "      <th>1116</th>\n",
       "      <td>1</td>\n",
       "      <td>1</td>\n",
       "    </tr>\n",
       "    <tr>\n",
       "      <th>1368</th>\n",
       "      <td>1</td>\n",
       "      <td>1</td>\n",
       "    </tr>\n",
       "    <tr>\n",
       "      <th>422</th>\n",
       "      <td>0</td>\n",
       "      <td>0</td>\n",
       "    </tr>\n",
       "    <tr>\n",
       "      <th>413</th>\n",
       "      <td>0</td>\n",
       "      <td>0</td>\n",
       "    </tr>\n",
       "    <tr>\n",
       "      <th>451</th>\n",
       "      <td>0</td>\n",
       "      <td>0</td>\n",
       "    </tr>\n",
       "    <tr>\n",
       "      <th>...</th>\n",
       "      <td>...</td>\n",
       "      <td>...</td>\n",
       "    </tr>\n",
       "    <tr>\n",
       "      <th>155</th>\n",
       "      <td>1</td>\n",
       "      <td>1</td>\n",
       "    </tr>\n",
       "    <tr>\n",
       "      <th>1151</th>\n",
       "      <td>0</td>\n",
       "      <td>0</td>\n",
       "    </tr>\n",
       "    <tr>\n",
       "      <th>1141</th>\n",
       "      <td>0</td>\n",
       "      <td>0</td>\n",
       "    </tr>\n",
       "    <tr>\n",
       "      <th>974</th>\n",
       "      <td>0</td>\n",
       "      <td>0</td>\n",
       "    </tr>\n",
       "    <tr>\n",
       "      <th>1057</th>\n",
       "      <td>0</td>\n",
       "      <td>0</td>\n",
       "    </tr>\n",
       "  </tbody>\n",
       "</table>\n",
       "<p>375 rows × 2 columns</p>\n",
       "</div>"
      ],
      "text/plain": [
       "      y_real  y_pred\n",
       "1116       1       1\n",
       "1368       1       1\n",
       "422        0       0\n",
       "413        0       0\n",
       "451        0       0\n",
       "...      ...     ...\n",
       "155        1       1\n",
       "1151       0       0\n",
       "1141       0       0\n",
       "974        0       0\n",
       "1057       0       0\n",
       "\n",
       "[375 rows x 2 columns]"
      ]
     },
     "execution_count": 26,
     "metadata": {},
     "output_type": "execute_result"
    }
   ],
   "source": [
    "best_lr = rs_lr.best_estimator_\n",
    "\n",
    "pred_lr = best_lr.predict(X_test)\n",
    "\n",
    "df_predicciones_lr = pd.DataFrame({'y_real': y_test,  \n",
    "                                'y_pred': pred_lr})\n",
    "\n",
    "df_predicciones_lr"
   ]
  },
  {
   "cell_type": "markdown",
   "metadata": {},
   "source": [
    "**✔️ Evaluación:**"
   ]
  },
  {
   "cell_type": "code",
   "execution_count": 27,
   "metadata": {},
   "outputs": [
    {
     "name": "stdout",
     "output_type": "stream",
     "text": [
      "accuracy: 0.9013333333333333\n",
      "recall: 0.8309859154929577\n",
      "precission: 0.9007633587786259\n",
      "\n",
      "----------------------------------------------\n",
      "\n",
      "confusion_matrix:\n",
      " [[220  13]\n",
      " [ 24 118]]\n"
     ]
    }
   ],
   "source": [
    "print('accuracy:',accuracy_score(y_test, pred_lr))\n",
    "print('recall:',recall_score(y_test, pred_lr))\n",
    "print('precission:', precision_score(y_test, pred_lr))\n",
    "\n",
    "print('\\n----------------------------------------------\\n')\n",
    "\n",
    "print('confusion_matrix:\\n',confusion_matrix(y_test, pred_lr))"
   ]
  },
  {
   "cell_type": "markdown",
   "metadata": {},
   "source": [
    "**💾 Guardar Modelo + Config:**"
   ]
  },
  {
   "cell_type": "code",
   "execution_count": 28,
   "metadata": {},
   "outputs": [],
   "source": [
    "with open('../models/LogisticRegression_RandomizedSearchCV/model_LRRSCV.pkl', 'wb') as archivo:\n",
    "    pickle.dump(best_lr, archivo)"
   ]
  },
  {
   "cell_type": "code",
   "execution_count": 29,
   "metadata": {},
   "outputs": [],
   "source": [
    "configuracion_lr = {\n",
    "    'modelo': 'LogisticRegression',\n",
    "    'mejores_parametros': rs_lr.best_params_,\n",
    "    'mejor_puntuacion': rs_lr.best_score_,\n",
    "    'configuracion_busqueda': {\n",
    "        'n_iter': 50,\n",
    "        'scoring': 'accuracy',\n",
    "        'cv': 5,\n",
    "        'random_state': 42\n",
    "    }\n",
    "}\n",
    "\n",
    "with open('../models/LogisticRegression_RandomizedSearchCV/config_LRRSCV.yaml', 'w') as archivo:\n",
    "    yaml.dump(configuracion_lr, archivo)\n"
   ]
  },
  {
   "cell_type": "markdown",
   "metadata": {},
   "source": [
    "---\n",
    "**<h3 style=\"text-align:center;\">🤖⁴ : SVC + RandomizedSearchCV </h3>**"
   ]
  },
  {
   "cell_type": "markdown",
   "metadata": {},
   "source": [
    "**🏋️‍♂️ Entrenamiento:**"
   ]
  },
  {
   "cell_type": "code",
   "execution_count": 34,
   "metadata": {},
   "outputs": [
    {
     "name": "stdout",
     "output_type": "stream",
     "text": [
      "Mejores parámetros: {'kernel': 'rbf', 'gamma': 'scale', 'C': np.float64(1000.0)}\n",
      "Mejor puntuación de validación: 0.8192771084337348\n"
     ]
    }
   ],
   "source": [
    "modelo_svm = SVC()\n",
    "\n",
    "params_svm = {\n",
    "    'C': np.logspace(-3, 3, 7),\n",
    "    'kernel': ['linear', 'rbf'],\n",
    "    'gamma': ['scale', 'auto', 0.01, 0.1]\n",
    "}\n",
    "\n",
    "rs_svm = RandomizedSearchCV(\n",
    "    modelo_svm, param_distributions=params_svm,\n",
    "    n_iter=50, scoring='recall', cv=5, random_state=42, n_jobs=-1\n",
    ")\n",
    "\n",
    "rs_svm.fit(X_train, y_train)\n",
    "\n",
    "print(\"Mejores parámetros:\", rs_svm.best_params_)\n",
    "print(\"Mejor puntuación de validación:\", rs_svm.best_score_)"
   ]
  },
  {
   "cell_type": "markdown",
   "metadata": {},
   "source": [
    "**🔮 Predicciones:**"
   ]
  },
  {
   "cell_type": "code",
   "execution_count": 35,
   "metadata": {},
   "outputs": [
    {
     "data": {
      "text/html": [
       "<div>\n",
       "<style scoped>\n",
       "    .dataframe tbody tr th:only-of-type {\n",
       "        vertical-align: middle;\n",
       "    }\n",
       "\n",
       "    .dataframe tbody tr th {\n",
       "        vertical-align: top;\n",
       "    }\n",
       "\n",
       "    .dataframe thead th {\n",
       "        text-align: right;\n",
       "    }\n",
       "</style>\n",
       "<table border=\"1\" class=\"dataframe\">\n",
       "  <thead>\n",
       "    <tr style=\"text-align: right;\">\n",
       "      <th></th>\n",
       "      <th>y_real</th>\n",
       "      <th>y_pred</th>\n",
       "    </tr>\n",
       "  </thead>\n",
       "  <tbody>\n",
       "    <tr>\n",
       "      <th>1116</th>\n",
       "      <td>1</td>\n",
       "      <td>1</td>\n",
       "    </tr>\n",
       "    <tr>\n",
       "      <th>1368</th>\n",
       "      <td>1</td>\n",
       "      <td>1</td>\n",
       "    </tr>\n",
       "    <tr>\n",
       "      <th>422</th>\n",
       "      <td>0</td>\n",
       "      <td>0</td>\n",
       "    </tr>\n",
       "    <tr>\n",
       "      <th>413</th>\n",
       "      <td>0</td>\n",
       "      <td>0</td>\n",
       "    </tr>\n",
       "    <tr>\n",
       "      <th>451</th>\n",
       "      <td>0</td>\n",
       "      <td>0</td>\n",
       "    </tr>\n",
       "    <tr>\n",
       "      <th>...</th>\n",
       "      <td>...</td>\n",
       "      <td>...</td>\n",
       "    </tr>\n",
       "    <tr>\n",
       "      <th>155</th>\n",
       "      <td>1</td>\n",
       "      <td>1</td>\n",
       "    </tr>\n",
       "    <tr>\n",
       "      <th>1151</th>\n",
       "      <td>0</td>\n",
       "      <td>0</td>\n",
       "    </tr>\n",
       "    <tr>\n",
       "      <th>1141</th>\n",
       "      <td>0</td>\n",
       "      <td>0</td>\n",
       "    </tr>\n",
       "    <tr>\n",
       "      <th>974</th>\n",
       "      <td>0</td>\n",
       "      <td>0</td>\n",
       "    </tr>\n",
       "    <tr>\n",
       "      <th>1057</th>\n",
       "      <td>0</td>\n",
       "      <td>0</td>\n",
       "    </tr>\n",
       "  </tbody>\n",
       "</table>\n",
       "<p>375 rows × 2 columns</p>\n",
       "</div>"
      ],
      "text/plain": [
       "      y_real  y_pred\n",
       "1116       1       1\n",
       "1368       1       1\n",
       "422        0       0\n",
       "413        0       0\n",
       "451        0       0\n",
       "...      ...     ...\n",
       "155        1       1\n",
       "1151       0       0\n",
       "1141       0       0\n",
       "974        0       0\n",
       "1057       0       0\n",
       "\n",
       "[375 rows x 2 columns]"
      ]
     },
     "execution_count": 35,
     "metadata": {},
     "output_type": "execute_result"
    }
   ],
   "source": [
    "best_svm = rs_svm.best_estimator_\n",
    "pred_svm = best_svm.predict(X_test)\n",
    "\n",
    "df_predicciones_svm = pd.DataFrame({'y_real': y_test, 'y_pred': pred_svm})\n",
    "\n",
    "df_predicciones_svm"
   ]
  },
  {
   "cell_type": "markdown",
   "metadata": {},
   "source": [
    "**✔️ Evaluación:**"
   ]
  },
  {
   "cell_type": "code",
   "execution_count": 36,
   "metadata": {},
   "outputs": [
    {
     "name": "stdout",
     "output_type": "stream",
     "text": [
      "accuracy: 0.896\n",
      "recall: 0.8169014084507042\n",
      "precision: 0.8992248062015504\n",
      "\n",
      "----------------------------------------------\n",
      "\n",
      "confusion_matrix:\n",
      " [[220  13]\n",
      " [ 26 116]]\n"
     ]
    }
   ],
   "source": [
    "print('accuracy:', accuracy_score(y_test, pred_svm))\n",
    "print('recall:', recall_score(y_test, pred_svm))\n",
    "print('precision:', precision_score(y_test, pred_svm))\n",
    "print('\\n----------------------------------------------\\n')\n",
    "print('confusion_matrix:\\n', confusion_matrix(y_test, pred_svm))"
   ]
  },
  {
   "cell_type": "code",
   "execution_count": 37,
   "metadata": {},
   "outputs": [
    {
     "name": "stdout",
     "output_type": "stream",
     "text": [
      "              precision    recall  f1-score   support\n",
      "\n",
      "           0       0.89      0.94      0.92       233\n",
      "           1       0.90      0.82      0.86       142\n",
      "\n",
      "    accuracy                           0.90       375\n",
      "   macro avg       0.90      0.88      0.89       375\n",
      "weighted avg       0.90      0.90      0.89       375\n",
      "\n"
     ]
    }
   ],
   "source": [
    "print(classification_report(y_test, pred_svm))"
   ]
  },
  {
   "cell_type": "markdown",
   "metadata": {},
   "source": [
    "**💾 Guardar Modelo + Config:**"
   ]
  },
  {
   "cell_type": "code",
   "execution_count": 38,
   "metadata": {},
   "outputs": [],
   "source": [
    "with open('../models/SVM_RandomizedSearchCV/model_SVMRSCV.pkl', 'wb') as archivo:\n",
    "    pickle.dump(best_svm, archivo)"
   ]
  },
  {
   "cell_type": "code",
   "execution_count": 39,
   "metadata": {},
   "outputs": [],
   "source": [
    "configuracion_svm = {\n",
    "    'modelo': 'SVM',\n",
    "    'mejores_parametros': rs_svm.best_params_,\n",
    "    'mejor_puntuacion': rs_svm.best_score_,\n",
    "    'configuracion_busqueda': {\n",
    "        'n_iter': 50,\n",
    "        'scoring': 'accuracy',\n",
    "        'cv': 5,\n",
    "        'random_state': 42\n",
    "    }\n",
    "}\n",
    "\n",
    "with open('../models/SVM_RandomizedSearchCV/config_SVMRSCV.yaml', 'w') as archivo:\n",
    "    yaml.dump(configuracion_svm, archivo)"
   ]
  },
  {
   "cell_type": "markdown",
   "metadata": {},
   "source": [
    "---\n",
    "**<h3 style=\"text-align:center;\">🤖⁵ : XGBOOST 🚀 + RandomizedSearchCV</h3>**"
   ]
  },
  {
   "cell_type": "markdown",
   "metadata": {},
   "source": [
    "**🏋️‍♂️ Entrenamiento:**"
   ]
  },
  {
   "cell_type": "markdown",
   "metadata": {},
   "source": [
    "**🔮 Predicciones:**\n"
   ]
  },
  {
   "cell_type": "markdown",
   "metadata": {},
   "source": [
    "**✔️ Evaluación:**\n"
   ]
  },
  {
   "cell_type": "markdown",
   "metadata": {},
   "source": [
    "**💾 Guardar Modelo + Config:**\n"
   ]
  }
 ],
 "metadata": {
  "kernelspec": {
   "display_name": "Python 3",
   "language": "python",
   "name": "python3"
  },
  "language_info": {
   "codemirror_mode": {
    "name": "ipython",
    "version": 3
   },
   "file_extension": ".py",
   "mimetype": "text/x-python",
   "name": "python",
   "nbconvert_exporter": "python",
   "pygments_lexer": "ipython3",
   "version": "3.12.3"
  }
 },
 "nbformat": 4,
 "nbformat_minor": 2
}
