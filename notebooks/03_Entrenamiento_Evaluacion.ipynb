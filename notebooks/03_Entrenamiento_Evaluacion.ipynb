{
 "cells": [
  {
   "cell_type": "markdown",
   "metadata": {},
   "source": [
    "___\n",
    "<h3 style=\"text-align:center;\">⚠️ Entrenamiento de <u>modelos</u> ⚠️\n",
    "</h3>\n",
    "\n",
    "---"
   ]
  },
  {
   "cell_type": "markdown",
   "metadata": {},
   "source": [
    "<h3 style=\"text-align:center;\">📚🔧\n",
    "</h3>"
   ]
  },
  {
   "cell_type": "code",
   "execution_count": 18,
   "metadata": {},
   "outputs": [],
   "source": [
    "# Importacion de Librerías:\n",
    "import pandas as pd\n",
    "import numpy as np\n",
    "\n",
    "from sklearn.model_selection import RandomizedSearchCV, learning_curve\n",
    "from sklearn.tree import DecisionTreeClassifier\n",
    "from sklearn.linear_model import LogisticRegression\n",
    "from sklearn.svm import SVC\n",
    "import xgboost as xgb\n",
    "from sklearn.decomposition import PCA\n",
    "from sklearn.neighbors import KNeighborsClassifier\n",
    "from sklearn.ensemble import RandomForestClassifier\n",
    "from sklearn.cluster import KMeans\n",
    "from sklearn.metrics import accuracy_score, precision_score, recall_score, confusion_matrix, f1_score, roc_curve, auc, silhouette_score, classification_report\n",
    "\n",
    "from tensorflow.keras.models import Sequential\n",
    "from tensorflow.keras.layers import Dense, Dropout\n",
    "from tensorflow.keras.optimizers import Adam\n",
    "from tensorflow.keras.callbacks import EarlyStopping\n",
    "from sklearn.preprocessing import StandardScaler\n",
    "\n",
    "\n",
    "import pickle\n",
    "import yaml\n",
    "\n",
    "import matplotlib.pyplot as plt\n",
    "import seaborn as sns\n",
    "from sklearn.metrics import ConfusionMatrixDisplay"
   ]
  },
  {
   "cell_type": "markdown",
   "metadata": {},
   "source": [
    "---\n",
    "**<h3 style=\"text-align:center;\">📚🔧: División: <u>X_train</u> , <u>y_train</u> , <u>X_test</u> , <u>y_test</u></h3>**"
   ]
  },
  {
   "cell_type": "markdown",
   "metadata": {},
   "source": [
    "**X_train + y_train:**"
   ]
  },
  {
   "cell_type": "code",
   "execution_count": 2,
   "metadata": {},
   "outputs": [],
   "source": [
    "df_train = pd.read_csv('../data/train.csv', index_col='Unnamed: 0')\n",
    "\n",
    "X_train = df_train.drop('Diagnosis', axis=1)\n",
    "y_train = df_train['Diagnosis']"
   ]
  },
  {
   "cell_type": "markdown",
   "metadata": {},
   "source": [
    "**X_test + y_test:**"
   ]
  },
  {
   "cell_type": "code",
   "execution_count": 3,
   "metadata": {},
   "outputs": [],
   "source": [
    "df_test = pd.read_csv('../data/test.csv', index_col='Unnamed: 0')\n",
    "\n",
    "X_test = df_test.drop('Diagnosis', axis=1)\n",
    "y_test = df_test['Diagnosis']"
   ]
  },
  {
   "cell_type": "markdown",
   "metadata": {},
   "source": [
    "**☑️ Check Dimensiones:**"
   ]
  },
  {
   "cell_type": "code",
   "execution_count": 5,
   "metadata": {},
   "outputs": [
    {
     "name": "stdout",
     "output_type": "stream",
     "text": [
      "Forma de X_train: (1125, 10)\n",
      "Forma de y_train: (1125,)\n",
      "Forma de X_test: (375, 10)\n",
      "Forma de y_test: (375,)\n"
     ]
    }
   ],
   "source": [
    "# Forma de variables de entrenamiento y comevaluación:\n",
    "print('Forma de X_train:', X_train.shape)\n",
    "print('Forma de y_train:', y_train.shape)\n",
    "print('Forma de X_test:', X_test.shape)\n",
    "print('Forma de y_test:', y_test.shape)"
   ]
  },
  {
   "cell_type": "markdown",
   "metadata": {},
   "source": [
    "---\n",
    "**<h3 style=\"text-align:center;\">🤖¹ : <u>DecisionTreeClassifier</u>🌳 +  <u>RandomizedSearchCV</u>🔀</h3>**"
   ]
  },
  {
   "cell_type": "markdown",
   "metadata": {},
   "source": [
    "**🏋️‍♂️ Entrenamiento:**"
   ]
  },
  {
   "cell_type": "code",
   "execution_count": 50,
   "metadata": {},
   "outputs": [
    {
     "name": "stdout",
     "output_type": "stream",
     "text": [
      "Mejores parámetros: {'min_samples_split': np.int64(2), 'min_samples_leaf': np.int64(7), 'max_depth': np.int64(15), 'criterion': 'entropy'}\n",
      "Mejor puntuación de validación: 0.8168674698795181\n"
     ]
    }
   ],
   "source": [
    "modelo_dtc = DecisionTreeClassifier()\n",
    "\n",
    "\n",
    "params_dtc = {\n",
    "    'max_depth': np.arange(1, 20),\n",
    "    'min_samples_split': np.arange(2, 20),\n",
    "    'min_samples_leaf': np.arange(1, 20),\n",
    "    'criterion': ['gini', 'entropy']\n",
    "}\n",
    "\n",
    "rs_dtc = RandomizedSearchCV(\n",
    "    modelo_dtc, param_distributions=params_dtc,\n",
    "    n_iter=50, scoring='recall', cv=5, random_state=42, n_jobs=-1\n",
    ")\n",
    "\n",
    "rs_dtc.fit(X_train, y_train)\n",
    "\n",
    "print(\"Mejores parámetros:\", rs_dtc.best_params_)\n",
    "print(\"Mejor puntuación de validación:\", rs_dtc.best_score_)"
   ]
  },
  {
   "cell_type": "markdown",
   "metadata": {},
   "source": [
    "**🔮 Predicciones:**"
   ]
  },
  {
   "cell_type": "code",
   "execution_count": 51,
   "metadata": {},
   "outputs": [
    {
     "data": {
      "text/html": [
       "<div>\n",
       "<style scoped>\n",
       "    .dataframe tbody tr th:only-of-type {\n",
       "        vertical-align: middle;\n",
       "    }\n",
       "\n",
       "    .dataframe tbody tr th {\n",
       "        vertical-align: top;\n",
       "    }\n",
       "\n",
       "    .dataframe thead th {\n",
       "        text-align: right;\n",
       "    }\n",
       "</style>\n",
       "<table border=\"1\" class=\"dataframe\">\n",
       "  <thead>\n",
       "    <tr style=\"text-align: right;\">\n",
       "      <th></th>\n",
       "      <th>y_real</th>\n",
       "      <th>y_pred</th>\n",
       "    </tr>\n",
       "  </thead>\n",
       "  <tbody>\n",
       "    <tr>\n",
       "      <th>1116</th>\n",
       "      <td>1</td>\n",
       "      <td>1</td>\n",
       "    </tr>\n",
       "    <tr>\n",
       "      <th>1368</th>\n",
       "      <td>1</td>\n",
       "      <td>1</td>\n",
       "    </tr>\n",
       "    <tr>\n",
       "      <th>422</th>\n",
       "      <td>0</td>\n",
       "      <td>0</td>\n",
       "    </tr>\n",
       "    <tr>\n",
       "      <th>413</th>\n",
       "      <td>0</td>\n",
       "      <td>0</td>\n",
       "    </tr>\n",
       "    <tr>\n",
       "      <th>451</th>\n",
       "      <td>0</td>\n",
       "      <td>0</td>\n",
       "    </tr>\n",
       "    <tr>\n",
       "      <th>...</th>\n",
       "      <td>...</td>\n",
       "      <td>...</td>\n",
       "    </tr>\n",
       "    <tr>\n",
       "      <th>155</th>\n",
       "      <td>1</td>\n",
       "      <td>1</td>\n",
       "    </tr>\n",
       "    <tr>\n",
       "      <th>1151</th>\n",
       "      <td>0</td>\n",
       "      <td>0</td>\n",
       "    </tr>\n",
       "    <tr>\n",
       "      <th>1141</th>\n",
       "      <td>0</td>\n",
       "      <td>0</td>\n",
       "    </tr>\n",
       "    <tr>\n",
       "      <th>974</th>\n",
       "      <td>0</td>\n",
       "      <td>1</td>\n",
       "    </tr>\n",
       "    <tr>\n",
       "      <th>1057</th>\n",
       "      <td>0</td>\n",
       "      <td>1</td>\n",
       "    </tr>\n",
       "  </tbody>\n",
       "</table>\n",
       "<p>375 rows × 2 columns</p>\n",
       "</div>"
      ],
      "text/plain": [
       "      y_real  y_pred\n",
       "1116       1       1\n",
       "1368       1       1\n",
       "422        0       0\n",
       "413        0       0\n",
       "451        0       0\n",
       "...      ...     ...\n",
       "155        1       1\n",
       "1151       0       0\n",
       "1141       0       0\n",
       "974        0       1\n",
       "1057       0       1\n",
       "\n",
       "[375 rows x 2 columns]"
      ]
     },
     "execution_count": 51,
     "metadata": {},
     "output_type": "execute_result"
    }
   ],
   "source": [
    "best_dtc = rs_dtc.best_estimator_\n",
    "\n",
    "pred_dtc = best_dtc.predict(X_test)\n",
    "\n",
    "df_predicciones_dtc = pd.DataFrame({'y_real': y_test,  \n",
    "                                'y_pred': pred_dtc})\n",
    "\n",
    "df_predicciones_dtc"
   ]
  },
  {
   "cell_type": "markdown",
   "metadata": {},
   "source": [
    "**✔️ Evaluación:**"
   ]
  },
  {
   "cell_type": "code",
   "execution_count": 14,
   "metadata": {},
   "outputs": [
    {
     "name": "stdout",
     "output_type": "stream",
     "text": [
      "accuracy: 0.8826666666666667\n",
      "recall: 0.795774647887324\n",
      "precission: 0.8828125\n",
      "\n",
      "----------------------------------------------\n",
      "\n",
      "confusion_matrix:\n",
      " [[218  15]\n",
      " [ 29 113]]\n"
     ]
    }
   ],
   "source": [
    "print('accuracy:',accuracy_score(y_test, pred_dtc))\n",
    "print('recall:',recall_score(y_test,pred_dtc))\n",
    "print('precission:', precision_score(y_test, pred_dtc))\n",
    "\n",
    "print('\\n----------------------------------------------\\n')\n",
    "\n",
    "print('confusion_matrix:\\n',confusion_matrix(y_test, pred_dtc))"
   ]
  },
  {
   "cell_type": "code",
   "execution_count": 15,
   "metadata": {},
   "outputs": [
    {
     "name": "stdout",
     "output_type": "stream",
     "text": [
      "              precision    recall  f1-score   support\n",
      "\n",
      "           0       0.88      0.94      0.91       233\n",
      "           1       0.88      0.80      0.84       142\n",
      "\n",
      "    accuracy                           0.88       375\n",
      "   macro avg       0.88      0.87      0.87       375\n",
      "weighted avg       0.88      0.88      0.88       375\n",
      "\n"
     ]
    }
   ],
   "source": [
    "print(classification_report(y_test, pred_dtc))"
   ]
  },
  {
   "cell_type": "markdown",
   "metadata": {},
   "source": [
    "**💾 Guardar Modelo + Config:**"
   ]
  },
  {
   "cell_type": "code",
   "execution_count": 16,
   "metadata": {},
   "outputs": [],
   "source": [
    "with open('../models/DecisionTree_RandomizedSearchCV/model_DTCRSCV.pkl', 'wb') as archivo:\n",
    "    pickle.dump(best_dtc, archivo)"
   ]
  },
  {
   "cell_type": "code",
   "execution_count": 17,
   "metadata": {},
   "outputs": [],
   "source": [
    "configuracion = {\n",
    "    'modelo': 'DecisionTreeClassifier',\n",
    "    'mejores_parametros': rs_dtc.best_params_,\n",
    "    'mejor_puntuacion': rs_dtc.best_score_,\n",
    "    'configuracion_busqueda': {\n",
    "        'n_iter': 50,\n",
    "        'scoring': 'recall',\n",
    "        'cv': 5,\n",
    "        'random_state': 42\n",
    "    }\n",
    "}\n",
    "\n",
    "with open('../models/DecisionTree_RandomizedSearchCV/config_DTCRSCV.yaml', 'w') as archivo:\n",
    "    yaml.dump(configuracion, archivo)"
   ]
  },
  {
   "cell_type": "markdown",
   "metadata": {},
   "source": [
    "---\n",
    "**<h3 style=\"text-align:center;\">🤖² : <u>RandomForestClassifier</u>🌳 +  <u>RandomizedSearchCV</u>🔀</h3>**"
   ]
  },
  {
   "cell_type": "markdown",
   "metadata": {},
   "source": [
    "**🏋️‍♂️ Entrenamiento:**"
   ]
  },
  {
   "cell_type": "code",
   "execution_count": 53,
   "metadata": {},
   "outputs": [
    {
     "name": "stdout",
     "output_type": "stream",
     "text": [
      "Mejores parámetros: {'n_estimators': np.int64(65), 'min_samples_split': np.int64(8), 'min_samples_leaf': np.int64(1), 'max_depth': np.int64(16), 'criterion': 'gini'}\n",
      "Mejor puntuación de validación: 0.8433734939759037\n"
     ]
    }
   ],
   "source": [
    "modelo_rf = RandomForestClassifier()\n",
    "\n",
    "params_rf = {\n",
    "    'n_estimators': np.arange(25,75),\n",
    "    'max_depth': np.arange(1, 20),\n",
    "    'min_samples_split': np.arange(2, 20),\n",
    "    'min_samples_leaf': np.arange(1, 20),\n",
    "    'criterion': ['gini', 'entropy']\n",
    "}\n",
    "\n",
    "rs_rf = RandomizedSearchCV(\n",
    "    modelo_rf, param_distributions=params_rf,\n",
    "    n_iter=50, scoring='recall', cv=5, random_state=42, n_jobs=-1\n",
    ")\n",
    "\n",
    "rs_rf.fit(X_train, y_train)\n",
    "\n",
    "print(\"Mejores parámetros:\", rs_rf.best_params_)\n",
    "print(\"Mejor puntuación de validación:\", rs_rf.best_score_)"
   ]
  },
  {
   "cell_type": "markdown",
   "metadata": {},
   "source": [
    "**🔮 Predicciones:**"
   ]
  },
  {
   "cell_type": "code",
   "execution_count": 54,
   "metadata": {},
   "outputs": [
    {
     "data": {
      "text/html": [
       "<div>\n",
       "<style scoped>\n",
       "    .dataframe tbody tr th:only-of-type {\n",
       "        vertical-align: middle;\n",
       "    }\n",
       "\n",
       "    .dataframe tbody tr th {\n",
       "        vertical-align: top;\n",
       "    }\n",
       "\n",
       "    .dataframe thead th {\n",
       "        text-align: right;\n",
       "    }\n",
       "</style>\n",
       "<table border=\"1\" class=\"dataframe\">\n",
       "  <thead>\n",
       "    <tr style=\"text-align: right;\">\n",
       "      <th></th>\n",
       "      <th>y_real</th>\n",
       "      <th>y_pred</th>\n",
       "    </tr>\n",
       "  </thead>\n",
       "  <tbody>\n",
       "    <tr>\n",
       "      <th>1116</th>\n",
       "      <td>1</td>\n",
       "      <td>1</td>\n",
       "    </tr>\n",
       "    <tr>\n",
       "      <th>1368</th>\n",
       "      <td>1</td>\n",
       "      <td>1</td>\n",
       "    </tr>\n",
       "    <tr>\n",
       "      <th>422</th>\n",
       "      <td>0</td>\n",
       "      <td>0</td>\n",
       "    </tr>\n",
       "    <tr>\n",
       "      <th>413</th>\n",
       "      <td>0</td>\n",
       "      <td>0</td>\n",
       "    </tr>\n",
       "    <tr>\n",
       "      <th>451</th>\n",
       "      <td>0</td>\n",
       "      <td>0</td>\n",
       "    </tr>\n",
       "    <tr>\n",
       "      <th>...</th>\n",
       "      <td>...</td>\n",
       "      <td>...</td>\n",
       "    </tr>\n",
       "    <tr>\n",
       "      <th>155</th>\n",
       "      <td>1</td>\n",
       "      <td>1</td>\n",
       "    </tr>\n",
       "    <tr>\n",
       "      <th>1151</th>\n",
       "      <td>0</td>\n",
       "      <td>0</td>\n",
       "    </tr>\n",
       "    <tr>\n",
       "      <th>1141</th>\n",
       "      <td>0</td>\n",
       "      <td>0</td>\n",
       "    </tr>\n",
       "    <tr>\n",
       "      <th>974</th>\n",
       "      <td>0</td>\n",
       "      <td>1</td>\n",
       "    </tr>\n",
       "    <tr>\n",
       "      <th>1057</th>\n",
       "      <td>0</td>\n",
       "      <td>0</td>\n",
       "    </tr>\n",
       "  </tbody>\n",
       "</table>\n",
       "<p>375 rows × 2 columns</p>\n",
       "</div>"
      ],
      "text/plain": [
       "      y_real  y_pred\n",
       "1116       1       1\n",
       "1368       1       1\n",
       "422        0       0\n",
       "413        0       0\n",
       "451        0       0\n",
       "...      ...     ...\n",
       "155        1       1\n",
       "1151       0       0\n",
       "1141       0       0\n",
       "974        0       1\n",
       "1057       0       0\n",
       "\n",
       "[375 rows x 2 columns]"
      ]
     },
     "execution_count": 54,
     "metadata": {},
     "output_type": "execute_result"
    }
   ],
   "source": [
    "best_rf = rs_rf.best_estimator_\n",
    "\n",
    "pred_rf = best_rf.predict(X_test)\n",
    "\n",
    "df_predicciones_rf = pd.DataFrame({'y_real': y_test,  \n",
    "                                'y_pred': pred_rf})\n",
    "\n",
    "df_predicciones_rf"
   ]
  },
  {
   "cell_type": "markdown",
   "metadata": {},
   "source": [
    "**✔️ Evaluación:**"
   ]
  },
  {
   "cell_type": "code",
   "execution_count": 10,
   "metadata": {},
   "outputs": [
    {
     "name": "stdout",
     "output_type": "stream",
     "text": [
      "accuracy: 0.9173333333333333\n",
      "recall: 0.8591549295774648\n",
      "precission: 0.9172932330827067\n",
      "\n",
      "----------------------------------------------\n",
      "\n",
      "confusion_matrix:\n",
      " [[222  11]\n",
      " [ 20 122]]\n"
     ]
    }
   ],
   "source": [
    "print('accuracy:',accuracy_score(y_test, pred_rf))\n",
    "print('recall:',recall_score(y_test, pred_rf))\n",
    "print('precission:', precision_score(y_test, pred_rf))\n",
    "\n",
    "print('\\n----------------------------------------------\\n')\n",
    "\n",
    "print('confusion_matrix:\\n',confusion_matrix(y_test, pred_rf))"
   ]
  },
  {
   "cell_type": "code",
   "execution_count": null,
   "metadata": {},
   "outputs": [],
   "source": [
    "print(classification_report(y_test, pred_rf))"
   ]
  },
  {
   "cell_type": "markdown",
   "metadata": {},
   "source": [
    "**💾 Guardar Modelo + Config:**"
   ]
  },
  {
   "cell_type": "code",
   "execution_count": 18,
   "metadata": {},
   "outputs": [],
   "source": [
    "with open('../models/RandomForest_RandomizedSearchCV/model_RFRSCV.pkl', 'wb') as archivo:\n",
    "    pickle.dump(best_rf, archivo)"
   ]
  },
  {
   "cell_type": "code",
   "execution_count": 19,
   "metadata": {},
   "outputs": [],
   "source": [
    "configuracion_rf = {\n",
    "    'modelo': 'RandomForestClassifier',\n",
    "    'mejores_parametros': rs_rf.best_params_,\n",
    "    'mejor_puntuacion': rs_rf.best_score_,\n",
    "    'configuracion_busqueda': {\n",
    "        'n_iter': 50,\n",
    "        'scoring': 'recall',\n",
    "        'cv': 5,\n",
    "        'random_state': 42\n",
    "    }\n",
    "}\n",
    "\n",
    "\n",
    "with open('../models/RandomForest_RandomizedSearchCV/config_RFRSCV.yaml', 'w') as archivo:\n",
    "    yaml.dump(configuracion, archivo)"
   ]
  },
  {
   "cell_type": "markdown",
   "metadata": {},
   "source": [
    "---\n",
    "**<h3 style=\"text-align:center;\">🤖³ : <u>LogisticRegression</u> ↗️ + RandomizedSearchCV🔀 </h3>**"
   ]
  },
  {
   "cell_type": "markdown",
   "metadata": {},
   "source": [
    "**🏋️‍♂️ Entrenamiento:**"
   ]
  },
  {
   "cell_type": "code",
   "execution_count": 22,
   "metadata": {},
   "outputs": [
    {
     "name": "stdout",
     "output_type": "stream",
     "text": [
      "Mejores parámetros: {'solver': 'liblinear', 'penalty': 'l1', 'C': np.float64(545.5594781168514)}\n",
      "Mejor puntuación de validación: 0.7903614457831326\n"
     ]
    },
    {
     "name": "stderr",
     "output_type": "stream",
     "text": [
      "c:\\Python312\\Lib\\site-packages\\sklearn\\model_selection\\_validation.py:540: FitFailedWarning: \n",
      "80 fits failed out of a total of 250.\n",
      "The score on these train-test partitions for these parameters will be set to nan.\n",
      "If these failures are not expected, you can try to debug them by setting error_score='raise'.\n",
      "\n",
      "Below are more details about the failures:\n",
      "--------------------------------------------------------------------------------\n",
      "30 fits failed with the following error:\n",
      "Traceback (most recent call last):\n",
      "  File \"c:\\Python312\\Lib\\site-packages\\sklearn\\model_selection\\_validation.py\", line 888, in _fit_and_score\n",
      "    estimator.fit(X_train, y_train, **fit_params)\n",
      "  File \"c:\\Python312\\Lib\\site-packages\\sklearn\\base.py\", line 1473, in wrapper\n",
      "    return fit_method(estimator, *args, **kwargs)\n",
      "           ^^^^^^^^^^^^^^^^^^^^^^^^^^^^^^^^^^^^^^\n",
      "  File \"c:\\Python312\\Lib\\site-packages\\sklearn\\linear_model\\_logistic.py\", line 1194, in fit\n",
      "    solver = _check_solver(self.solver, self.penalty, self.dual)\n",
      "             ^^^^^^^^^^^^^^^^^^^^^^^^^^^^^^^^^^^^^^^^^^^^^^^^^^^\n",
      "  File \"c:\\Python312\\Lib\\site-packages\\sklearn\\linear_model\\_logistic.py\", line 75, in _check_solver\n",
      "    raise ValueError(\n",
      "ValueError: Only 'saga' solver supports elasticnet penalty, got solver=liblinear.\n",
      "\n",
      "--------------------------------------------------------------------------------\n",
      "25 fits failed with the following error:\n",
      "Traceback (most recent call last):\n",
      "  File \"c:\\Python312\\Lib\\site-packages\\sklearn\\model_selection\\_validation.py\", line 888, in _fit_and_score\n",
      "    estimator.fit(X_train, y_train, **fit_params)\n",
      "  File \"c:\\Python312\\Lib\\site-packages\\sklearn\\base.py\", line 1473, in wrapper\n",
      "    return fit_method(estimator, *args, **kwargs)\n",
      "           ^^^^^^^^^^^^^^^^^^^^^^^^^^^^^^^^^^^^^^\n",
      "  File \"c:\\Python312\\Lib\\site-packages\\sklearn\\linear_model\\_logistic.py\", line 1204, in fit\n",
      "    raise ValueError(\"l1_ratio must be specified when penalty is elasticnet.\")\n",
      "ValueError: l1_ratio must be specified when penalty is elasticnet.\n",
      "\n",
      "--------------------------------------------------------------------------------\n",
      "25 fits failed with the following error:\n",
      "Traceback (most recent call last):\n",
      "  File \"c:\\Python312\\Lib\\site-packages\\sklearn\\model_selection\\_validation.py\", line 888, in _fit_and_score\n",
      "    estimator.fit(X_train, y_train, **fit_params)\n",
      "  File \"c:\\Python312\\Lib\\site-packages\\sklearn\\base.py\", line 1473, in wrapper\n",
      "    return fit_method(estimator, *args, **kwargs)\n",
      "           ^^^^^^^^^^^^^^^^^^^^^^^^^^^^^^^^^^^^^^\n",
      "  File \"c:\\Python312\\Lib\\site-packages\\sklearn\\linear_model\\_logistic.py\", line 1194, in fit\n",
      "    solver = _check_solver(self.solver, self.penalty, self.dual)\n",
      "             ^^^^^^^^^^^^^^^^^^^^^^^^^^^^^^^^^^^^^^^^^^^^^^^^^^^\n",
      "  File \"c:\\Python312\\Lib\\site-packages\\sklearn\\linear_model\\_logistic.py\", line 80, in _check_solver\n",
      "    raise ValueError(\"penalty=None is not supported for the liblinear solver\")\n",
      "ValueError: penalty=None is not supported for the liblinear solver\n",
      "\n",
      "  warnings.warn(some_fits_failed_message, FitFailedWarning)\n",
      "c:\\Python312\\Lib\\site-packages\\sklearn\\model_selection\\_search.py:1103: UserWarning: One or more of the test scores are non-finite: [0.73975904        nan        nan 0.73975904        nan        nan\n",
      "        nan 0.65783133        nan        nan 0.18554217        nan\n",
      " 0.73975904 0.74939759 0.                nan 0.79036145 0.73975904\n",
      " 0.79036145 0.         0.7373494  0.13975904        nan 0.\n",
      " 0.73975904 0.73975904 0.73975904 0.7060241  0.73975904 0.79036145\n",
      " 0.79036145        nan        nan 0.73975904 0.         0.73975904\n",
      "        nan 0.51807229        nan 0.79036145 0.32048193 0.79036145\n",
      " 0.78795181 0.79036145 0.79036145        nan 0.73975904        nan\n",
      " 0.73975904 0.73493976]\n",
      "  warnings.warn(\n"
     ]
    }
   ],
   "source": [
    "modelo_lr = LogisticRegression(max_iter=500)\n",
    "\n",
    "params_lr = {\n",
    "    'penalty': ['l1', 'l2', 'elasticnet', None],\n",
    "    'C': np.logspace(-4, 4, 20),\n",
    "    'solver': ['liblinear', 'saga']\n",
    "}\n",
    "\n",
    "rs_lr = RandomizedSearchCV(\n",
    "    modelo_lr, param_distributions=params_lr,\n",
    "    n_iter=50, scoring='recall', cv=5, random_state=42, n_jobs=-1\n",
    ")\n",
    "\n",
    "rs_lr.fit(X_train, y_train)\n",
    "\n",
    "print(\"Mejores parámetros:\", rs_lr.best_params_)\n",
    "print(\"Mejor puntuación de validación:\", rs_lr.best_score_)"
   ]
  },
  {
   "cell_type": "markdown",
   "metadata": {},
   "source": [
    "**🔮 Predicciones:**"
   ]
  },
  {
   "cell_type": "code",
   "execution_count": 23,
   "metadata": {},
   "outputs": [
    {
     "data": {
      "text/html": [
       "<div>\n",
       "<style scoped>\n",
       "    .dataframe tbody tr th:only-of-type {\n",
       "        vertical-align: middle;\n",
       "    }\n",
       "\n",
       "    .dataframe tbody tr th {\n",
       "        vertical-align: top;\n",
       "    }\n",
       "\n",
       "    .dataframe thead th {\n",
       "        text-align: right;\n",
       "    }\n",
       "</style>\n",
       "<table border=\"1\" class=\"dataframe\">\n",
       "  <thead>\n",
       "    <tr style=\"text-align: right;\">\n",
       "      <th></th>\n",
       "      <th>y_real</th>\n",
       "      <th>y_pred</th>\n",
       "    </tr>\n",
       "  </thead>\n",
       "  <tbody>\n",
       "    <tr>\n",
       "      <th>1116</th>\n",
       "      <td>1</td>\n",
       "      <td>1</td>\n",
       "    </tr>\n",
       "    <tr>\n",
       "      <th>1368</th>\n",
       "      <td>1</td>\n",
       "      <td>1</td>\n",
       "    </tr>\n",
       "    <tr>\n",
       "      <th>422</th>\n",
       "      <td>0</td>\n",
       "      <td>0</td>\n",
       "    </tr>\n",
       "    <tr>\n",
       "      <th>413</th>\n",
       "      <td>0</td>\n",
       "      <td>0</td>\n",
       "    </tr>\n",
       "    <tr>\n",
       "      <th>451</th>\n",
       "      <td>0</td>\n",
       "      <td>0</td>\n",
       "    </tr>\n",
       "    <tr>\n",
       "      <th>...</th>\n",
       "      <td>...</td>\n",
       "      <td>...</td>\n",
       "    </tr>\n",
       "    <tr>\n",
       "      <th>155</th>\n",
       "      <td>1</td>\n",
       "      <td>1</td>\n",
       "    </tr>\n",
       "    <tr>\n",
       "      <th>1151</th>\n",
       "      <td>0</td>\n",
       "      <td>0</td>\n",
       "    </tr>\n",
       "    <tr>\n",
       "      <th>1141</th>\n",
       "      <td>0</td>\n",
       "      <td>0</td>\n",
       "    </tr>\n",
       "    <tr>\n",
       "      <th>974</th>\n",
       "      <td>0</td>\n",
       "      <td>0</td>\n",
       "    </tr>\n",
       "    <tr>\n",
       "      <th>1057</th>\n",
       "      <td>0</td>\n",
       "      <td>0</td>\n",
       "    </tr>\n",
       "  </tbody>\n",
       "</table>\n",
       "<p>375 rows × 2 columns</p>\n",
       "</div>"
      ],
      "text/plain": [
       "      y_real  y_pred\n",
       "1116       1       1\n",
       "1368       1       1\n",
       "422        0       0\n",
       "413        0       0\n",
       "451        0       0\n",
       "...      ...     ...\n",
       "155        1       1\n",
       "1151       0       0\n",
       "1141       0       0\n",
       "974        0       0\n",
       "1057       0       0\n",
       "\n",
       "[375 rows x 2 columns]"
      ]
     },
     "execution_count": 23,
     "metadata": {},
     "output_type": "execute_result"
    }
   ],
   "source": [
    "best_lr = rs_lr.best_estimator_\n",
    "\n",
    "pred_lr = best_lr.predict(X_test)\n",
    "\n",
    "df_predicciones_lr = pd.DataFrame({'y_real': y_test,  \n",
    "                                'y_pred': pred_lr})\n",
    "\n",
    "df_predicciones_lr"
   ]
  },
  {
   "cell_type": "markdown",
   "metadata": {},
   "source": [
    "**✔️ Evaluación:**"
   ]
  },
  {
   "cell_type": "code",
   "execution_count": 24,
   "metadata": {},
   "outputs": [
    {
     "name": "stdout",
     "output_type": "stream",
     "text": [
      "accuracy: 0.9013333333333333\n",
      "recall: 0.8309859154929577\n",
      "precission: 0.9007633587786259\n",
      "\n",
      "----------------------------------------------\n",
      "\n",
      "confusion_matrix:\n",
      " [[220  13]\n",
      " [ 24 118]]\n"
     ]
    }
   ],
   "source": [
    "print('accuracy:',accuracy_score(y_test, pred_lr))\n",
    "print('recall:',recall_score(y_test, pred_lr))\n",
    "print('precission:', precision_score(y_test, pred_lr))\n",
    "\n",
    "print('\\n----------------------------------------------\\n')\n",
    "\n",
    "print('confusion_matrix:\\n',confusion_matrix(y_test, pred_lr))"
   ]
  },
  {
   "cell_type": "markdown",
   "metadata": {},
   "source": [
    "**💾 Guardar Modelo + Config:**"
   ]
  },
  {
   "cell_type": "code",
   "execution_count": 28,
   "metadata": {},
   "outputs": [],
   "source": [
    "with open('../models/LogisticRegression_RandomizedSearchCV/model_LRRSCV.pkl', 'wb') as archivo:\n",
    "    pickle.dump(best_lr, archivo)"
   ]
  },
  {
   "cell_type": "code",
   "execution_count": 25,
   "metadata": {},
   "outputs": [],
   "source": [
    "configuracion_lr = {\n",
    "    'modelo': 'LogisticRegression',\n",
    "    'mejores_parametros': rs_lr.best_params_,\n",
    "    'mejor_puntuacion': rs_lr.best_score_,\n",
    "    'configuracion_busqueda': {\n",
    "        'n_iter': 50,\n",
    "        'scoring': 'recall',\n",
    "        'cv': 5,\n",
    "        'random_state': 42\n",
    "    }\n",
    "}\n",
    "\n",
    "with open('../models/LogisticRegression_RandomizedSearchCV/config_LRRSCV.yaml', 'w') as archivo:\n",
    "    yaml.dump(configuracion_lr, archivo)\n"
   ]
  },
  {
   "cell_type": "markdown",
   "metadata": {},
   "source": [
    "---\n",
    "**<h3 style=\"text-align:center;\">🤖⁴ : SVC ↗️ + RandomizedSearchCV🔀 </h3>**"
   ]
  },
  {
   "cell_type": "markdown",
   "metadata": {},
   "source": [
    "**🏋️‍♂️ Entrenamiento:**"
   ]
  },
  {
   "cell_type": "code",
   "execution_count": 17,
   "metadata": {},
   "outputs": [
    {
     "name": "stdout",
     "output_type": "stream",
     "text": [
      "Mejores parámetros: {'kernel': 'rbf', 'gamma': 'scale', 'C': np.float64(1000.0)}\n",
      "Mejor puntuación de validación: 0.8192771084337348\n"
     ]
    }
   ],
   "source": [
    "modelo_svm = SVC()\n",
    "\n",
    "params_svm = {\n",
    "    'C': np.logspace(-3, 3, 7),\n",
    "    'kernel': ['linear', 'rbf'],\n",
    "    'gamma': ['scale', 'auto', 0.01, 0.1]\n",
    "}\n",
    "\n",
    "rs_svm = RandomizedSearchCV(\n",
    "    modelo_svm, param_distributions=params_svm,\n",
    "    n_iter=50, scoring='recall', cv=5, random_state=42, n_jobs=-1\n",
    ")\n",
    "\n",
    "rs_svm.fit(X_train, y_train)\n",
    "\n",
    "print(\"Mejores parámetros:\", rs_svm.best_params_)\n",
    "print(\"Mejor puntuación de validación:\", rs_svm.best_score_)"
   ]
  },
  {
   "cell_type": "markdown",
   "metadata": {},
   "source": [
    "**🔮 Predicciones:**"
   ]
  },
  {
   "cell_type": "code",
   "execution_count": 18,
   "metadata": {},
   "outputs": [
    {
     "data": {
      "text/html": [
       "<div>\n",
       "<style scoped>\n",
       "    .dataframe tbody tr th:only-of-type {\n",
       "        vertical-align: middle;\n",
       "    }\n",
       "\n",
       "    .dataframe tbody tr th {\n",
       "        vertical-align: top;\n",
       "    }\n",
       "\n",
       "    .dataframe thead th {\n",
       "        text-align: right;\n",
       "    }\n",
       "</style>\n",
       "<table border=\"1\" class=\"dataframe\">\n",
       "  <thead>\n",
       "    <tr style=\"text-align: right;\">\n",
       "      <th></th>\n",
       "      <th>y_real</th>\n",
       "      <th>y_pred</th>\n",
       "    </tr>\n",
       "  </thead>\n",
       "  <tbody>\n",
       "    <tr>\n",
       "      <th>1116</th>\n",
       "      <td>1</td>\n",
       "      <td>1</td>\n",
       "    </tr>\n",
       "    <tr>\n",
       "      <th>1368</th>\n",
       "      <td>1</td>\n",
       "      <td>1</td>\n",
       "    </tr>\n",
       "    <tr>\n",
       "      <th>422</th>\n",
       "      <td>0</td>\n",
       "      <td>0</td>\n",
       "    </tr>\n",
       "    <tr>\n",
       "      <th>413</th>\n",
       "      <td>0</td>\n",
       "      <td>0</td>\n",
       "    </tr>\n",
       "    <tr>\n",
       "      <th>451</th>\n",
       "      <td>0</td>\n",
       "      <td>0</td>\n",
       "    </tr>\n",
       "    <tr>\n",
       "      <th>...</th>\n",
       "      <td>...</td>\n",
       "      <td>...</td>\n",
       "    </tr>\n",
       "    <tr>\n",
       "      <th>155</th>\n",
       "      <td>1</td>\n",
       "      <td>1</td>\n",
       "    </tr>\n",
       "    <tr>\n",
       "      <th>1151</th>\n",
       "      <td>0</td>\n",
       "      <td>0</td>\n",
       "    </tr>\n",
       "    <tr>\n",
       "      <th>1141</th>\n",
       "      <td>0</td>\n",
       "      <td>0</td>\n",
       "    </tr>\n",
       "    <tr>\n",
       "      <th>974</th>\n",
       "      <td>0</td>\n",
       "      <td>0</td>\n",
       "    </tr>\n",
       "    <tr>\n",
       "      <th>1057</th>\n",
       "      <td>0</td>\n",
       "      <td>0</td>\n",
       "    </tr>\n",
       "  </tbody>\n",
       "</table>\n",
       "<p>375 rows × 2 columns</p>\n",
       "</div>"
      ],
      "text/plain": [
       "      y_real  y_pred\n",
       "1116       1       1\n",
       "1368       1       1\n",
       "422        0       0\n",
       "413        0       0\n",
       "451        0       0\n",
       "...      ...     ...\n",
       "155        1       1\n",
       "1151       0       0\n",
       "1141       0       0\n",
       "974        0       0\n",
       "1057       0       0\n",
       "\n",
       "[375 rows x 2 columns]"
      ]
     },
     "execution_count": 18,
     "metadata": {},
     "output_type": "execute_result"
    }
   ],
   "source": [
    "best_svm = rs_svm.best_estimator_\n",
    "pred_svm = best_svm.predict(X_test)\n",
    "\n",
    "df_predicciones_svm = pd.DataFrame({'y_real': y_test, 'y_pred': pred_svm})\n",
    "\n",
    "df_predicciones_svm"
   ]
  },
  {
   "cell_type": "markdown",
   "metadata": {},
   "source": [
    "**✔️ Evaluación:**"
   ]
  },
  {
   "cell_type": "code",
   "execution_count": 19,
   "metadata": {},
   "outputs": [
    {
     "name": "stdout",
     "output_type": "stream",
     "text": [
      "accuracy: 0.896\n",
      "recall: 0.8169014084507042\n",
      "precision: 0.8992248062015504\n",
      "\n",
      "----------------------------------------------\n",
      "\n",
      "confusion_matrix:\n",
      " [[220  13]\n",
      " [ 26 116]]\n"
     ]
    }
   ],
   "source": [
    "print('accuracy:', accuracy_score(y_test, pred_svm))\n",
    "print('recall:', recall_score(y_test, pred_svm))\n",
    "print('precision:', precision_score(y_test, pred_svm))\n",
    "print('\\n----------------------------------------------\\n')\n",
    "print('confusion_matrix:\\n', confusion_matrix(y_test, pred_svm))"
   ]
  },
  {
   "cell_type": "code",
   "execution_count": 20,
   "metadata": {},
   "outputs": [
    {
     "name": "stdout",
     "output_type": "stream",
     "text": [
      "              precision    recall  f1-score   support\n",
      "\n",
      "           0       0.89      0.94      0.92       233\n",
      "           1       0.90      0.82      0.86       142\n",
      "\n",
      "    accuracy                           0.90       375\n",
      "   macro avg       0.90      0.88      0.89       375\n",
      "weighted avg       0.90      0.90      0.89       375\n",
      "\n"
     ]
    }
   ],
   "source": [
    "print(classification_report(y_test, pred_svm))"
   ]
  },
  {
   "cell_type": "markdown",
   "metadata": {},
   "source": [
    "**💾 Guardar Modelo + Config:**"
   ]
  },
  {
   "cell_type": "code",
   "execution_count": 38,
   "metadata": {},
   "outputs": [],
   "source": [
    "with open('../models/SVM_RandomizedSearchCV/model_SVMRSCV.pkl', 'wb') as archivo:\n",
    "    pickle.dump(best_svm, archivo)"
   ]
  },
  {
   "cell_type": "code",
   "execution_count": 21,
   "metadata": {},
   "outputs": [],
   "source": [
    "configuracion_svm = {\n",
    "    'modelo': 'SVM',\n",
    "    'mejores_parametros': rs_svm.best_params_,\n",
    "    'mejor_puntuacion': rs_svm.best_score_,\n",
    "    'configuracion_busqueda': {\n",
    "        'n_iter': 50,\n",
    "        'scoring': 'recall',\n",
    "        'cv': 5,\n",
    "        'random_state': 42\n",
    "    }\n",
    "}\n",
    "\n",
    "with open('../models/SVM_RandomizedSearchCV/config_SVMRSCV.yaml', 'w') as archivo:\n",
    "    yaml.dump(configuracion_svm, archivo)"
   ]
  },
  {
   "cell_type": "markdown",
   "metadata": {},
   "source": [
    "---\n",
    "**<h3 style=\"text-align:center;\">🤖⁵ : <u>XGBOOST</u> 🚀 + <u>RandomizedSearchCV</u>🔀</h3>**"
   ]
  },
  {
   "cell_type": "markdown",
   "metadata": {},
   "source": [
    "**🏋️‍♂️ Entrenamiento:**"
   ]
  },
  {
   "cell_type": "code",
   "execution_count": 4,
   "metadata": {},
   "outputs": [
    {
     "name": "stdout",
     "output_type": "stream",
     "text": [
      "Fitting 5 folds for each of 50 candidates, totalling 250 fits\n",
      "Mejores parámetros: {'subsample': 1.0, 'n_estimators': np.int64(150), 'max_depth': np.int64(3), 'learning_rate': 0.2, 'gamma': 0.3, 'colsample_bytree': 0.7}\n",
      "Mejor puntuación de validación: 0.8746987951807229\n"
     ]
    }
   ],
   "source": [
    "modelo_xgb = xgb.XGBClassifier(eval_metric='mlogloss')\n",
    "\n",
    "params_xgb = {\n",
    "    'max_depth': np.arange(3, 15),\n",
    "    'learning_rate': [0.001, 0.01, 0.05, 0.1, 0.2],\n",
    "    'n_estimators': np.arange(50, 200, 50),\n",
    "    'subsample': [0.7, 0.8, 0.9, 1.0],\n",
    "    'colsample_bytree': [0.7, 0.8, 1.0],\n",
    "    'gamma': [0, 0.1, 0.2, 0.3]\n",
    "    }\n",
    "\n",
    "rs_xgb = RandomizedSearchCV(\n",
    "    modelo_xgb, param_distributions=params_xgb,\n",
    "    n_iter=50, scoring='recall', cv=5, random_state=42, n_jobs=-1, verbose= 2\n",
    ")\n",
    "\n",
    "rs_xgb.fit(X_train, y_train)\n",
    "\n",
    "\n",
    "print(\"Mejores parámetros:\", rs_xgb.best_params_)\n",
    "print(\"Mejor puntuación de validación:\", rs_xgb.best_score_)"
   ]
  },
  {
   "cell_type": "markdown",
   "metadata": {},
   "source": [
    "**🔮 Predicciones:**"
   ]
  },
  {
   "cell_type": "code",
   "execution_count": 5,
   "metadata": {},
   "outputs": [
    {
     "data": {
      "text/html": [
       "<div>\n",
       "<style scoped>\n",
       "    .dataframe tbody tr th:only-of-type {\n",
       "        vertical-align: middle;\n",
       "    }\n",
       "\n",
       "    .dataframe tbody tr th {\n",
       "        vertical-align: top;\n",
       "    }\n",
       "\n",
       "    .dataframe thead th {\n",
       "        text-align: right;\n",
       "    }\n",
       "</style>\n",
       "<table border=\"1\" class=\"dataframe\">\n",
       "  <thead>\n",
       "    <tr style=\"text-align: right;\">\n",
       "      <th></th>\n",
       "      <th>y_real</th>\n",
       "      <th>y_pred</th>\n",
       "    </tr>\n",
       "  </thead>\n",
       "  <tbody>\n",
       "    <tr>\n",
       "      <th>1116</th>\n",
       "      <td>1</td>\n",
       "      <td>1</td>\n",
       "    </tr>\n",
       "    <tr>\n",
       "      <th>1368</th>\n",
       "      <td>1</td>\n",
       "      <td>1</td>\n",
       "    </tr>\n",
       "    <tr>\n",
       "      <th>422</th>\n",
       "      <td>0</td>\n",
       "      <td>0</td>\n",
       "    </tr>\n",
       "    <tr>\n",
       "      <th>413</th>\n",
       "      <td>0</td>\n",
       "      <td>0</td>\n",
       "    </tr>\n",
       "    <tr>\n",
       "      <th>451</th>\n",
       "      <td>0</td>\n",
       "      <td>0</td>\n",
       "    </tr>\n",
       "    <tr>\n",
       "      <th>...</th>\n",
       "      <td>...</td>\n",
       "      <td>...</td>\n",
       "    </tr>\n",
       "    <tr>\n",
       "      <th>155</th>\n",
       "      <td>1</td>\n",
       "      <td>1</td>\n",
       "    </tr>\n",
       "    <tr>\n",
       "      <th>1151</th>\n",
       "      <td>0</td>\n",
       "      <td>0</td>\n",
       "    </tr>\n",
       "    <tr>\n",
       "      <th>1141</th>\n",
       "      <td>0</td>\n",
       "      <td>0</td>\n",
       "    </tr>\n",
       "    <tr>\n",
       "      <th>974</th>\n",
       "      <td>0</td>\n",
       "      <td>0</td>\n",
       "    </tr>\n",
       "    <tr>\n",
       "      <th>1057</th>\n",
       "      <td>0</td>\n",
       "      <td>0</td>\n",
       "    </tr>\n",
       "  </tbody>\n",
       "</table>\n",
       "<p>375 rows × 2 columns</p>\n",
       "</div>"
      ],
      "text/plain": [
       "      y_real  y_pred\n",
       "1116       1       1\n",
       "1368       1       1\n",
       "422        0       0\n",
       "413        0       0\n",
       "451        0       0\n",
       "...      ...     ...\n",
       "155        1       1\n",
       "1151       0       0\n",
       "1141       0       0\n",
       "974        0       0\n",
       "1057       0       0\n",
       "\n",
       "[375 rows x 2 columns]"
      ]
     },
     "execution_count": 5,
     "metadata": {},
     "output_type": "execute_result"
    }
   ],
   "source": [
    "best_xgb = rs_xgb.best_estimator_\n",
    "\n",
    "pred_xgb = best_xgb.predict(X_test)\n",
    "\n",
    "df_predicciones_xgb = pd.DataFrame({'y_real': y_test, 'y_pred': pred_xgb})\n",
    "\n",
    "df_predicciones_xgb"
   ]
  },
  {
   "cell_type": "markdown",
   "metadata": {},
   "source": [
    "**✔️ Evaluación:**\n"
   ]
  },
  {
   "cell_type": "code",
   "execution_count": 6,
   "metadata": {},
   "outputs": [
    {
     "name": "stdout",
     "output_type": "stream",
     "text": [
      "accuracy: 0.936\n",
      "recall: 0.8943661971830986\n",
      "precission: 0.9338235294117647\n",
      "\n",
      "----------------------------------------------\n",
      "\n",
      "confusion_matrix:\n",
      " [[224   9]\n",
      " [ 15 127]]\n"
     ]
    }
   ],
   "source": [
    "print('accuracy:', accuracy_score(y_test, pred_xgb))\n",
    "print('recall:', recall_score(y_test, pred_xgb))\n",
    "print('precission:', precision_score(y_test, pred_xgb))\n",
    "\n",
    "print('\\n----------------------------------------------\\n')\n",
    "\n",
    "print('confusion_matrix:\\n', confusion_matrix(y_test, pred_xgb))"
   ]
  },
  {
   "cell_type": "code",
   "execution_count": 7,
   "metadata": {},
   "outputs": [
    {
     "name": "stdout",
     "output_type": "stream",
     "text": [
      "              precision    recall  f1-score   support\n",
      "\n",
      "           0       0.94      0.96      0.95       233\n",
      "           1       0.93      0.89      0.91       142\n",
      "\n",
      "    accuracy                           0.94       375\n",
      "   macro avg       0.94      0.93      0.93       375\n",
      "weighted avg       0.94      0.94      0.94       375\n",
      "\n"
     ]
    }
   ],
   "source": [
    "print(classification_report(y_test, pred_xgb))"
   ]
  },
  {
   "cell_type": "markdown",
   "metadata": {},
   "source": [
    "**💾 Guardar Modelo + Config:**\n"
   ]
  },
  {
   "cell_type": "code",
   "execution_count": 13,
   "metadata": {},
   "outputs": [],
   "source": [
    "with open('../models/XGBoost_RandomizedSearchCV/model_XGBRSCV.pkl', 'wb') as archivo:\n",
    "    pickle.dump(best_xgb, archivo)"
   ]
  },
  {
   "cell_type": "code",
   "execution_count": 15,
   "metadata": {},
   "outputs": [],
   "source": [
    "configuracion = {\n",
    "    'modelo': 'XGBoost',\n",
    "    'mejores_parametros': rs_xgb.best_params_,\n",
    "    'mejor_puntuacion': rs_xgb.best_score_,\n",
    "    'configuracion_busqueda': {\n",
    "        'n_iter': 50,\n",
    "        'scoring': 'recall',\n",
    "        'cv': 3,\n",
    "        'random_state': 42\n",
    "    }\n",
    "}\n",
    "\n",
    "with open('../models/XGBoost_RandomizedSearchCV/config_XGBRSCV.yaml', 'w') as archivo:\n",
    "    yaml.dump(configuracion, archivo)"
   ]
  },
  {
   "cell_type": "markdown",
   "metadata": {},
   "source": [
    "---\n",
    "**<h3 style=\"text-align:center;\">🤖⁶ : <u>PCA</u>🌀 + <u>KNN</u>📐</h3>**"
   ]
  },
  {
   "cell_type": "markdown",
   "metadata": {},
   "source": [
    "🌌 **Reducción Dimensionalidad:**"
   ]
  },
  {
   "cell_type": "code",
   "execution_count": 27,
   "metadata": {},
   "outputs": [],
   "source": [
    "pca = PCA(n_components=0.95)\n",
    "X_train_pca = pca.fit_transform(X_train)\n",
    "X_test_pca = pca.transform(X_test)"
   ]
  },
  {
   "cell_type": "markdown",
   "metadata": {},
   "source": [
    "**🏋️‍♂️ Entrenamiento:**"
   ]
  },
  {
   "cell_type": "code",
   "execution_count": 30,
   "metadata": {},
   "outputs": [
    {
     "name": "stdout",
     "output_type": "stream",
     "text": [
      "Fitting 5 folds for each of 50 candidates, totalling 250 fits\n",
      "Mejores parámetros: {'weights': 'uniform', 'n_neighbors': np.int64(1), 'metric': 'euclidean'}\n",
      "Mejor puntuación de validación: 0.4385542168674699\n"
     ]
    }
   ],
   "source": [
    "modelo_knn = KNeighborsClassifier()\n",
    "\n",
    "params_knn = {\n",
    "    'n_neighbors': np.arange(1, 20),\n",
    "    'weights': ['uniform', 'distance'],\n",
    "    'metric': ['euclidean', 'manhattan', 'minkowski']\n",
    "}\n",
    "\n",
    "rs_knn = RandomizedSearchCV(\n",
    "    modelo_knn, param_distributions=params_knn,\n",
    "    n_iter=50, scoring='recall', cv=5, random_state=42, n_jobs=-1, verbose = 3\n",
    ")\n",
    "\n",
    "rs_knn.fit(X_train_pca, y_train)\n",
    "\n",
    "print(\"Mejores parámetros:\", rs_knn.best_params_)\n",
    "print(\"Mejor puntuación de validación:\", rs_knn.best_score_)"
   ]
  },
  {
   "cell_type": "markdown",
   "metadata": {},
   "source": [
    "**🔮 Predicciones:**\n"
   ]
  },
  {
   "cell_type": "code",
   "execution_count": 31,
   "metadata": {},
   "outputs": [
    {
     "data": {
      "text/html": [
       "<div>\n",
       "<style scoped>\n",
       "    .dataframe tbody tr th:only-of-type {\n",
       "        vertical-align: middle;\n",
       "    }\n",
       "\n",
       "    .dataframe tbody tr th {\n",
       "        vertical-align: top;\n",
       "    }\n",
       "\n",
       "    .dataframe thead th {\n",
       "        text-align: right;\n",
       "    }\n",
       "</style>\n",
       "<table border=\"1\" class=\"dataframe\">\n",
       "  <thead>\n",
       "    <tr style=\"text-align: right;\">\n",
       "      <th></th>\n",
       "      <th>y_real</th>\n",
       "      <th>y_pred</th>\n",
       "    </tr>\n",
       "  </thead>\n",
       "  <tbody>\n",
       "    <tr>\n",
       "      <th>1116</th>\n",
       "      <td>1</td>\n",
       "      <td>0</td>\n",
       "    </tr>\n",
       "    <tr>\n",
       "      <th>1368</th>\n",
       "      <td>1</td>\n",
       "      <td>0</td>\n",
       "    </tr>\n",
       "    <tr>\n",
       "      <th>422</th>\n",
       "      <td>0</td>\n",
       "      <td>0</td>\n",
       "    </tr>\n",
       "    <tr>\n",
       "      <th>413</th>\n",
       "      <td>0</td>\n",
       "      <td>0</td>\n",
       "    </tr>\n",
       "    <tr>\n",
       "      <th>451</th>\n",
       "      <td>0</td>\n",
       "      <td>0</td>\n",
       "    </tr>\n",
       "    <tr>\n",
       "      <th>...</th>\n",
       "      <td>...</td>\n",
       "      <td>...</td>\n",
       "    </tr>\n",
       "    <tr>\n",
       "      <th>155</th>\n",
       "      <td>1</td>\n",
       "      <td>1</td>\n",
       "    </tr>\n",
       "    <tr>\n",
       "      <th>1151</th>\n",
       "      <td>0</td>\n",
       "      <td>0</td>\n",
       "    </tr>\n",
       "    <tr>\n",
       "      <th>1141</th>\n",
       "      <td>0</td>\n",
       "      <td>1</td>\n",
       "    </tr>\n",
       "    <tr>\n",
       "      <th>974</th>\n",
       "      <td>0</td>\n",
       "      <td>0</td>\n",
       "    </tr>\n",
       "    <tr>\n",
       "      <th>1057</th>\n",
       "      <td>0</td>\n",
       "      <td>1</td>\n",
       "    </tr>\n",
       "  </tbody>\n",
       "</table>\n",
       "<p>375 rows × 2 columns</p>\n",
       "</div>"
      ],
      "text/plain": [
       "      y_real  y_pred\n",
       "1116       1       0\n",
       "1368       1       0\n",
       "422        0       0\n",
       "413        0       0\n",
       "451        0       0\n",
       "...      ...     ...\n",
       "155        1       1\n",
       "1151       0       0\n",
       "1141       0       1\n",
       "974        0       0\n",
       "1057       0       1\n",
       "\n",
       "[375 rows x 2 columns]"
      ]
     },
     "execution_count": 31,
     "metadata": {},
     "output_type": "execute_result"
    }
   ],
   "source": [
    "best_knn = rs_knn.best_estimator_\n",
    "\n",
    "pred_knn = best_knn.predict(X_test_pca)\n",
    "\n",
    "df_predicciones_knn = pd.DataFrame({'y_real': y_test, 'y_pred': pred_knn})\n",
    "\n",
    "df_predicciones_knn"
   ]
  },
  {
   "cell_type": "markdown",
   "metadata": {},
   "source": [
    "**✔️ Evaluación:**\n"
   ]
  },
  {
   "cell_type": "code",
   "execution_count": 32,
   "metadata": {},
   "outputs": [
    {
     "name": "stdout",
     "output_type": "stream",
     "text": [
      "accuracy: 0.6053333333333333\n",
      "recall: 0.4507042253521127\n",
      "precision: 0.47761194029850745\n",
      "\n",
      "----------------------------------------------\n",
      "\n",
      "confusion_matrix:\n",
      " [[163  70]\n",
      " [ 78  64]]\n"
     ]
    }
   ],
   "source": [
    "print('accuracy:', accuracy_score(y_test, pred_knn))\n",
    "print('recall:', recall_score(y_test, pred_knn))\n",
    "print('precision:', precision_score(y_test, pred_knn))\n",
    "print('\\n----------------------------------------------\\n')\n",
    "print('confusion_matrix:\\n', confusion_matrix(y_test, pred_knn))"
   ]
  },
  {
   "cell_type": "code",
   "execution_count": 33,
   "metadata": {},
   "outputs": [
    {
     "name": "stdout",
     "output_type": "stream",
     "text": [
      "              precision    recall  f1-score   support\n",
      "\n",
      "           0       0.68      0.70      0.69       233\n",
      "           1       0.48      0.45      0.46       142\n",
      "\n",
      "    accuracy                           0.61       375\n",
      "   macro avg       0.58      0.58      0.58       375\n",
      "weighted avg       0.60      0.61      0.60       375\n",
      "\n"
     ]
    }
   ],
   "source": [
    "print(classification_report(y_test, pred_knn))"
   ]
  },
  {
   "cell_type": "markdown",
   "metadata": {},
   "source": [
    "**💾 Guardar Modelo + Config:**\n"
   ]
  },
  {
   "cell_type": "code",
   "execution_count": 34,
   "metadata": {},
   "outputs": [],
   "source": [
    "with open('../models/PCA_KNN_RandomizedSearchCV/model_PCAKNNRSCV.pkl', 'wb') as archivo:\n",
    "    pickle.dump(best_knn, archivo)"
   ]
  },
  {
   "cell_type": "code",
   "execution_count": 35,
   "metadata": {},
   "outputs": [],
   "source": [
    "configuracion_knn = {\n",
    "    'modelo': 'KNN con PCA',\n",
    "    'mejores_parametros': rs_knn.best_params_,\n",
    "    'mejor_puntuacion': rs_knn.best_score_,\n",
    "    'configuracion_busqueda': {\n",
    "        'n_iter': 50,\n",
    "        'scoring': 'accuracy',\n",
    "        'cv': 5,\n",
    "        'random_state': 42\n",
    "    }\n",
    "}\n",
    "\n",
    "with open('../models/PCA_KNN_RandomizedSearchCV/config_PCAKNNRSCV.yaml', 'w') as archivo:\n",
    "    yaml.dump(configuracion_knn, archivo)"
   ]
  },
  {
   "cell_type": "markdown",
   "metadata": {},
   "source": [
    "---\n",
    "**<h3 style=\"text-align:center;\">🤖⁷ : <u>K-MEANS</u> 🔵🔴🟣🟢</h3>**"
   ]
  },
  {
   "cell_type": "markdown",
   "metadata": {},
   "source": [
    "↕ **Normalizacion de Datos:**"
   ]
  },
  {
   "cell_type": "code",
   "execution_count": 5,
   "metadata": {},
   "outputs": [],
   "source": [
    "X = pd.read_csv('../data/processed.csv', index_col='Unnamed: 0')\n",
    "scaler = StandardScaler()\n",
    "X_scaled = scaler.fit_transform(X)"
   ]
  },
  {
   "cell_type": "markdown",
   "metadata": {},
   "source": [
    "**🏋️‍♂️ Entrenamiento:**"
   ]
  },
  {
   "cell_type": "code",
   "execution_count": 8,
   "metadata": {},
   "outputs": [
    {
     "name": "stdout",
     "output_type": "stream",
     "text": [
      "Mejores parámetros: {'n_clusters': np.int64(3)}\n",
      "Mejor puntuación de validación (Silhouette): 0.26310459675589826\n"
     ]
    }
   ],
   "source": [
    "modelo_kmeans = KMeans(random_state=42, n_init=10, max_iter=300)\n",
    "\n",
    "params_kmeans = {\n",
    "    'n_clusters': np.arange(2, 11)\n",
    "}\n",
    "\n",
    "best_score = -1\n",
    "best_model = None\n",
    "best_params = {}\n",
    "\n",
    "for n_clusters in params_kmeans['n_clusters']:\n",
    "    kmeans = KMeans(n_clusters=n_clusters, random_state=42, n_init=10, max_iter=300)\n",
    "    kmeans.fit(X_scaled)\n",
    "    score = silhouette_score(X_scaled, kmeans.labels_)\n",
    "    if score > best_score:\n",
    "        best_score = score\n",
    "        best_model = kmeans\n",
    "        best_params = {'n_clusters': n_clusters}\n",
    "\n",
    "print(\"Mejores parámetros:\", best_params)\n",
    "print(\"Mejor puntuación de validación (Silhouette):\", best_score)"
   ]
  },
  {
   "cell_type": "markdown",
   "metadata": {},
   "source": [
    "**🔮 Predicciones:**\n"
   ]
  },
  {
   "cell_type": "code",
   "execution_count": 9,
   "metadata": {},
   "outputs": [],
   "source": [
    "clusters = best_model.predict(X_scaled)\n",
    "df_predicciones_kmeans = pd.DataFrame(X, columns=[f'feature_{i}' for i in range(X.shape[1])])\n",
    "df_predicciones_kmeans['Cluster'] = clusters"
   ]
  },
  {
   "cell_type": "markdown",
   "metadata": {},
   "source": [
    "**✔️ Evaluación:**\n"
   ]
  },
  {
   "cell_type": "code",
   "execution_count": 13,
   "metadata": {},
   "outputs": [
    {
     "name": "stdout",
     "output_type": "stream",
     "text": [
      "Silhouette Score del mejor modelo: 0.26310459675589826\n"
     ]
    }
   ],
   "source": [
    "print(\"Silhouette Score del mejor modelo:\", best_score)"
   ]
  },
  {
   "cell_type": "markdown",
   "metadata": {},
   "source": [
    "**💾 Guardar Modelo + Config:**\n"
   ]
  },
  {
   "cell_type": "code",
   "execution_count": null,
   "metadata": {},
   "outputs": [],
   "source": [
    "with open('../models/KMeans/model_KMeans.pkl', 'wb') as archivo:\n",
    "    pickle.dump(best_model, archivo)"
   ]
  },
  {
   "cell_type": "code",
   "execution_count": 15,
   "metadata": {},
   "outputs": [],
   "source": [
    "configuracion = {\n",
    "    'modelo': 'KMeans',\n",
    "    'mejores_parametros': best_params,\n",
    "    'mejor_puntuacion': best_score,\n",
    "    'configuracion': {\n",
    "        'random_state': 42,\n",
    "        'n_init': 10,\n",
    "        'max_iter': 300\n",
    "    }\n",
    "}\n",
    "\n",
    "with open('../models/KMeans/config_KMeans.yaml', 'w') as archivo:\n",
    "    yaml.dump(configuracion, archivo)"
   ]
  },
  {
   "cell_type": "markdown",
   "metadata": {},
   "source": [
    "---\n",
    "**<h3 style=\"text-align:center;\">🤖⁷ : <u>RED NEURONAL</u> 🧠☄️</h3>**"
   ]
  },
  {
   "cell_type": "markdown",
   "metadata": {},
   "source": [
    "↕ **Normalizacion de Datos:**"
   ]
  },
  {
   "cell_type": "code",
   "execution_count": 37,
   "metadata": {},
   "outputs": [],
   "source": [
    "scaler = StandardScaler()\n",
    "X_train_scaled = scaler.fit_transform(X_train)\n",
    "X_test_scaled = scaler.transform(X_test)"
   ]
  },
  {
   "cell_type": "markdown",
   "metadata": {},
   "source": [
    "📚 **Capas:**"
   ]
  },
  {
   "cell_type": "code",
   "execution_count": 41,
   "metadata": {},
   "outputs": [],
   "source": [
    "modelo = Sequential()\n",
    "\n",
    "modelo.add(Dense(64, activation='relu', input_dim=X_train_scaled.shape[1]))\n",
    "modelo.add(Dropout(0.2))\n",
    "\n",
    "modelo.add(Dense(64, activation='relu'))\n",
    "modelo.add(Dropout(0.2))\n",
    "\n",
    "modelo.add(Dense(1, activation='sigmoid'))"
   ]
  },
  {
   "cell_type": "markdown",
   "metadata": {},
   "source": [
    "💻 **Compile:**"
   ]
  },
  {
   "cell_type": "code",
   "execution_count": 42,
   "metadata": {},
   "outputs": [],
   "source": [
    "modelo.compile(optimizer=Adam(learning_rate=0.001), loss='binary_crossentropy', metrics=['accuracy'])"
   ]
  },
  {
   "cell_type": "markdown",
   "metadata": {},
   "source": [
    "**🏋️‍♂️ Entrenamiento:**"
   ]
  },
  {
   "cell_type": "code",
   "execution_count": 43,
   "metadata": {},
   "outputs": [
    {
     "name": "stdout",
     "output_type": "stream",
     "text": [
      "Epoch 1/50\n",
      "\u001b[1m36/36\u001b[0m \u001b[32m━━━━━━━━━━━━━━━━━━━━\u001b[0m\u001b[37m\u001b[0m \u001b[1m2s\u001b[0m 8ms/step - accuracy: 0.6130 - loss: 0.6592 - val_accuracy: 0.8427 - val_loss: 0.4961\n",
      "Epoch 2/50\n",
      "\u001b[1m36/36\u001b[0m \u001b[32m━━━━━━━━━━━━━━━━━━━━\u001b[0m\u001b[37m\u001b[0m \u001b[1m0s\u001b[0m 3ms/step - accuracy: 0.8323 - loss: 0.4700 - val_accuracy: 0.8800 - val_loss: 0.3664\n",
      "Epoch 3/50\n",
      "\u001b[1m36/36\u001b[0m \u001b[32m━━━━━━━━━━━━━━━━━━━━\u001b[0m\u001b[37m\u001b[0m \u001b[1m0s\u001b[0m 3ms/step - accuracy: 0.8351 - loss: 0.3882 - val_accuracy: 0.8827 - val_loss: 0.3132\n",
      "Epoch 4/50\n",
      "\u001b[1m36/36\u001b[0m \u001b[32m━━━━━━━━━━━━━━━━━━━━\u001b[0m\u001b[37m\u001b[0m \u001b[1m0s\u001b[0m 3ms/step - accuracy: 0.8808 - loss: 0.3372 - val_accuracy: 0.8827 - val_loss: 0.2980\n",
      "Epoch 5/50\n",
      "\u001b[1m36/36\u001b[0m \u001b[32m━━━━━━━━━━━━━━━━━━━━\u001b[0m\u001b[37m\u001b[0m \u001b[1m0s\u001b[0m 3ms/step - accuracy: 0.8472 - loss: 0.3454 - val_accuracy: 0.8907 - val_loss: 0.2939\n",
      "Epoch 6/50\n",
      "\u001b[1m36/36\u001b[0m \u001b[32m━━━━━━━━━━━━━━━━━━━━\u001b[0m\u001b[37m\u001b[0m \u001b[1m0s\u001b[0m 3ms/step - accuracy: 0.8717 - loss: 0.3227 - val_accuracy: 0.8907 - val_loss: 0.2920\n",
      "Epoch 7/50\n",
      "\u001b[1m36/36\u001b[0m \u001b[32m━━━━━━━━━━━━━━━━━━━━\u001b[0m\u001b[37m\u001b[0m \u001b[1m0s\u001b[0m 3ms/step - accuracy: 0.8697 - loss: 0.3271 - val_accuracy: 0.8987 - val_loss: 0.2883\n",
      "Epoch 8/50\n",
      "\u001b[1m36/36\u001b[0m \u001b[32m━━━━━━━━━━━━━━━━━━━━\u001b[0m\u001b[37m\u001b[0m \u001b[1m0s\u001b[0m 4ms/step - accuracy: 0.8598 - loss: 0.3263 - val_accuracy: 0.8907 - val_loss: 0.2903\n",
      "Epoch 9/50\n",
      "\u001b[1m36/36\u001b[0m \u001b[32m━━━━━━━━━━━━━━━━━━━━\u001b[0m\u001b[37m\u001b[0m \u001b[1m0s\u001b[0m 3ms/step - accuracy: 0.8690 - loss: 0.3201 - val_accuracy: 0.8987 - val_loss: 0.2844\n",
      "Epoch 10/50\n",
      "\u001b[1m36/36\u001b[0m \u001b[32m━━━━━━━━━━━━━━━━━━━━\u001b[0m\u001b[37m\u001b[0m \u001b[1m0s\u001b[0m 5ms/step - accuracy: 0.8784 - loss: 0.2963 - val_accuracy: 0.8960 - val_loss: 0.2855\n",
      "Epoch 11/50\n",
      "\u001b[1m36/36\u001b[0m \u001b[32m━━━━━━━━━━━━━━━━━━━━\u001b[0m\u001b[37m\u001b[0m \u001b[1m0s\u001b[0m 3ms/step - accuracy: 0.8753 - loss: 0.3007 - val_accuracy: 0.8933 - val_loss: 0.2830\n",
      "Epoch 12/50\n",
      "\u001b[1m36/36\u001b[0m \u001b[32m━━━━━━━━━━━━━━━━━━━━\u001b[0m\u001b[37m\u001b[0m \u001b[1m0s\u001b[0m 3ms/step - accuracy: 0.8716 - loss: 0.3110 - val_accuracy: 0.8960 - val_loss: 0.2867\n",
      "Epoch 13/50\n",
      "\u001b[1m36/36\u001b[0m \u001b[32m━━━━━━━━━━━━━━━━━━━━\u001b[0m\u001b[37m\u001b[0m \u001b[1m0s\u001b[0m 3ms/step - accuracy: 0.8940 - loss: 0.2874 - val_accuracy: 0.8880 - val_loss: 0.2848\n",
      "Epoch 14/50\n",
      "\u001b[1m36/36\u001b[0m \u001b[32m━━━━━━━━━━━━━━━━━━━━\u001b[0m\u001b[37m\u001b[0m \u001b[1m0s\u001b[0m 3ms/step - accuracy: 0.8834 - loss: 0.2910 - val_accuracy: 0.8853 - val_loss: 0.2865\n",
      "Epoch 15/50\n",
      "\u001b[1m36/36\u001b[0m \u001b[32m━━━━━━━━━━━━━━━━━━━━\u001b[0m\u001b[37m\u001b[0m \u001b[1m0s\u001b[0m 3ms/step - accuracy: 0.8874 - loss: 0.2955 - val_accuracy: 0.8907 - val_loss: 0.2858\n",
      "Epoch 16/50\n",
      "\u001b[1m36/36\u001b[0m \u001b[32m━━━━━━━━━━━━━━━━━━━━\u001b[0m\u001b[37m\u001b[0m \u001b[1m0s\u001b[0m 3ms/step - accuracy: 0.8797 - loss: 0.3023 - val_accuracy: 0.8853 - val_loss: 0.2837\n",
      "Epoch 17/50\n",
      "\u001b[1m36/36\u001b[0m \u001b[32m━━━━━━━━━━━━━━━━━━━━\u001b[0m\u001b[37m\u001b[0m \u001b[1m0s\u001b[0m 3ms/step - accuracy: 0.8749 - loss: 0.3093 - val_accuracy: 0.8880 - val_loss: 0.2857\n"
     ]
    }
   ],
   "source": [
    "early_stopping = EarlyStopping(monitor='val_loss', patience=6, restore_best_weights=True)\n",
    "\n",
    "\n",
    "history = modelo.fit(\n",
    "    X_train_scaled, y_train,\n",
    "    epochs=50,\n",
    "    batch_size=32,\n",
    "    validation_data=(X_test_scaled, y_test),\n",
    "    callbacks=[early_stopping],\n",
    "    verbose=1\n",
    ")"
   ]
  },
  {
   "cell_type": "markdown",
   "metadata": {},
   "source": [
    "**🔮 Predicciones:**\n"
   ]
  },
  {
   "cell_type": "code",
   "execution_count": 44,
   "metadata": {},
   "outputs": [
    {
     "name": "stdout",
     "output_type": "stream",
     "text": [
      "\u001b[1m12/12\u001b[0m \u001b[32m━━━━━━━━━━━━━━━━━━━━\u001b[0m\u001b[37m\u001b[0m \u001b[1m0s\u001b[0m 5ms/step\n"
     ]
    }
   ],
   "source": [
    "pred_keras = (modelo.predict(X_test_scaled) > 0.5).astype(\"int32\")"
   ]
  },
  {
   "cell_type": "markdown",
   "metadata": {},
   "source": [
    "**✔️ Evaluación:**"
   ]
  },
  {
   "cell_type": "code",
   "execution_count": 45,
   "metadata": {},
   "outputs": [
    {
     "name": "stdout",
     "output_type": "stream",
     "text": [
      "accuracy: 0.8933333333333333\n",
      "recall: 0.8450704225352113\n",
      "precision: 0.8695652173913043\n",
      "\n",
      "----------------------------------------------\n",
      "\n",
      "confusion_matrix:\n",
      " [[215  18]\n",
      " [ 22 120]]\n"
     ]
    }
   ],
   "source": [
    "print('accuracy:', accuracy_score(y_test, pred_keras))\n",
    "print('recall:', recall_score(y_test, pred_keras))\n",
    "print('precision:', precision_score(y_test, pred_keras))\n",
    "\n",
    "print('\\n----------------------------------------------\\n')\n",
    "\n",
    "print('confusion_matrix:\\n', confusion_matrix(y_test, pred_keras))"
   ]
  },
  {
   "cell_type": "code",
   "execution_count": 46,
   "metadata": {},
   "outputs": [
    {
     "name": "stdout",
     "output_type": "stream",
     "text": [
      "              precision    recall  f1-score   support\n",
      "\n",
      "           0       0.91      0.92      0.91       233\n",
      "           1       0.87      0.85      0.86       142\n",
      "\n",
      "    accuracy                           0.89       375\n",
      "   macro avg       0.89      0.88      0.89       375\n",
      "weighted avg       0.89      0.89      0.89       375\n",
      "\n"
     ]
    }
   ],
   "source": [
    "\n",
    "print(classification_report(y_test, pred_keras))"
   ]
  },
  {
   "cell_type": "markdown",
   "metadata": {},
   "source": [
    "**💾 Guardar Modelo + Config:**\n"
   ]
  },
  {
   "cell_type": "code",
   "execution_count": 47,
   "metadata": {},
   "outputs": [
    {
     "name": "stderr",
     "output_type": "stream",
     "text": [
      "WARNING:absl:You are saving your model as an HDF5 file via `model.save()` or `keras.saving.save_model(model)`. This file format is considered legacy. We recommend using instead the native Keras format, e.g. `model.save('my_model.keras')` or `keras.saving.save_model(model, 'my_model.keras')`. \n"
     ]
    }
   ],
   "source": [
    "modelo.save('../models/Keras/modelo_Keras.h5')"
   ]
  },
  {
   "cell_type": "code",
   "execution_count": 48,
   "metadata": {},
   "outputs": [],
   "source": [
    "configuracion = {\n",
    "    'modelo': 'Keras Sequential',\n",
    "    'params': {\n",
    "        'epochs': 50,\n",
    "        'batch_size': 32,\n",
    "        'optimizer': 'Adam',\n",
    "        'learning_rate': 0.001,\n",
    "        'dropout_rate': 0.2,\n",
    "        'early_stopping': True\n",
    "    }\n",
    "}\n",
    "\n",
    "with open('../models/Keras/config_Keras.yaml', 'w') as archivo:\n",
    "    yaml.dump(configuracion, archivo)"
   ]
  },
  {
   "cell_type": "markdown",
   "metadata": {},
   "source": [
    "---\n",
    "\n",
    "**<h3 style=\"text-align:center;\"> 📈 RESULTADOS 📉</h3>**\n",
    "\n",
    "---"
   ]
  },
  {
   "cell_type": "code",
   "execution_count": null,
   "metadata": {},
   "outputs": [],
   "source": [
    "# 1. Decision Tree\n",
    "accuracy_dtc = accuracy_score(y_test, pred_dtc)\n",
    "recall_dtc = recall_score(y_test, pred_dtc)\n",
    "precision_dtc = precision_score(y_test, pred_dtc)\n",
    "f1_dtc = f1_score(y_test, pred_dtc)\n",
    "\n",
    "# 2. Random Forest\n",
    "accuracy_rf = accuracy_score(y_test, pred_rf)\n",
    "recall_rf = recall_score(y_test, pred_rf)\n",
    "precision_rf = precision_score(y_test, pred_rf)\n",
    "f1_rf = f1_score(y_test, pred_rf)\n",
    "\n",
    "# 3. Logistic Regression\n",
    "accuracy_lr = accuracy_score(y_test, pred_lr)\n",
    "recall_lr = recall_score(y_test, pred_lr)\n",
    "precision_lr = precision_score(y_test, pred_lr)\n",
    "f1_lr = f1_score(y_test, pred_lr)\n",
    "\n",
    "# 3. SVM\n",
    "accuracy_svm = accuracy_score(y_test, pred_svm)\n",
    "recall_svm = recall_score(y_test, pred_svm)\n",
    "precision_svm = precision_score(y_test, pred_svm)\n",
    "f1_svm = f1_score(y_test, pred_svm)\n",
    "\n",
    "# 5. XGBoost\n",
    "accuracy_xgb = accuracy_score(y_test, pred_xgb)\n",
    "recall_xgb = recall_score(y_test, pred_xgb)\n",
    "precision_xgb = precision_score(y_test, pred_xgb)\n",
    "f1_xgb = f1_score(y_test, pred_xgb)\n",
    "\n",
    "# 6. PCA + KNN\n",
    "accuracy_knn = accuracy_score(y_test, pred_knn)\n",
    "recall_knn = recall_score(y_test, pred_knn)\n",
    "precision_knn = precision_score(y_test, pred_knn)\n",
    "f1_knn = f1_score(y_test, pred_knn)\n",
    "\n",
    "# 7. Red Neuronal\n",
    "accuracy_keras = accuracy_score(y_test, pred_keras)\n",
    "recall_keras = recall_score(y_test, pred_keras)\n",
    "precision_keras = precision_score(y_test, pred_keras)\n",
    "f1_keras = f1_score(y_test, pred_keras)"
   ]
  },
  {
   "cell_type": "code",
   "execution_count": 66,
   "metadata": {},
   "outputs": [
    {
     "data": {
      "text/html": [
       "<div>\n",
       "<style scoped>\n",
       "    .dataframe tbody tr th:only-of-type {\n",
       "        vertical-align: middle;\n",
       "    }\n",
       "\n",
       "    .dataframe tbody tr th {\n",
       "        vertical-align: top;\n",
       "    }\n",
       "\n",
       "    .dataframe thead th {\n",
       "        text-align: right;\n",
       "    }\n",
       "</style>\n",
       "<table border=\"1\" class=\"dataframe\">\n",
       "  <thead>\n",
       "    <tr style=\"text-align: right;\">\n",
       "      <th></th>\n",
       "      <th>Modelo</th>\n",
       "      <th>Accuracy</th>\n",
       "      <th>Recall</th>\n",
       "      <th>Precision</th>\n",
       "      <th>F1-Score</th>\n",
       "    </tr>\n",
       "  </thead>\n",
       "  <tbody>\n",
       "    <tr>\n",
       "      <th>4</th>\n",
       "      <td>XGBoost</td>\n",
       "      <td>0.936000</td>\n",
       "      <td>0.894366</td>\n",
       "      <td>0.933824</td>\n",
       "      <td>0.913669</td>\n",
       "    </tr>\n",
       "    <tr>\n",
       "      <th>1</th>\n",
       "      <td>RandomForest</td>\n",
       "      <td>0.901333</td>\n",
       "      <td>0.852113</td>\n",
       "      <td>0.883212</td>\n",
       "      <td>0.867384</td>\n",
       "    </tr>\n",
       "    <tr>\n",
       "      <th>6</th>\n",
       "      <td>Red Neuronal</td>\n",
       "      <td>0.893333</td>\n",
       "      <td>0.845070</td>\n",
       "      <td>0.869565</td>\n",
       "      <td>0.857143</td>\n",
       "    </tr>\n",
       "    <tr>\n",
       "      <th>2</th>\n",
       "      <td>LogisticRegression</td>\n",
       "      <td>0.901333</td>\n",
       "      <td>0.830986</td>\n",
       "      <td>0.900763</td>\n",
       "      <td>0.864469</td>\n",
       "    </tr>\n",
       "    <tr>\n",
       "      <th>0</th>\n",
       "      <td>DecisionTree</td>\n",
       "      <td>0.877333</td>\n",
       "      <td>0.816901</td>\n",
       "      <td>0.852941</td>\n",
       "      <td>0.834532</td>\n",
       "    </tr>\n",
       "    <tr>\n",
       "      <th>3</th>\n",
       "      <td>SVM</td>\n",
       "      <td>0.896000</td>\n",
       "      <td>0.816901</td>\n",
       "      <td>0.899225</td>\n",
       "      <td>0.856089</td>\n",
       "    </tr>\n",
       "    <tr>\n",
       "      <th>5</th>\n",
       "      <td>PCA_KNN</td>\n",
       "      <td>0.605333</td>\n",
       "      <td>0.450704</td>\n",
       "      <td>0.477612</td>\n",
       "      <td>0.463768</td>\n",
       "    </tr>\n",
       "  </tbody>\n",
       "</table>\n",
       "</div>"
      ],
      "text/plain": [
       "               Modelo  Accuracy    Recall  Precision  F1-Score\n",
       "4             XGBoost  0.936000  0.894366   0.933824  0.913669\n",
       "1        RandomForest  0.901333  0.852113   0.883212  0.867384\n",
       "6        Red Neuronal  0.893333  0.845070   0.869565  0.857143\n",
       "2  LogisticRegression  0.901333  0.830986   0.900763  0.864469\n",
       "0        DecisionTree  0.877333  0.816901   0.852941  0.834532\n",
       "3                 SVM  0.896000  0.816901   0.899225  0.856089\n",
       "5             PCA_KNN  0.605333  0.450704   0.477612  0.463768"
      ]
     },
     "execution_count": 66,
     "metadata": {},
     "output_type": "execute_result"
    }
   ],
   "source": [
    "resultados = pd.DataFrame({\n",
    "    'Modelo': ['DecisionTree', 'RandomForest', 'LogisticRegression', 'SVM', 'XGBoost', 'PCA_KNN', 'Red Neuronal'],\n",
    "    'Accuracy': [accuracy_dtc, accuracy_rf, accuracy_lr, accuracy_svm, accuracy_xgb, accuracy_knn, accuracy_keras],\n",
    "    'Recall': [recall_dtc, recall_rf, recall_lr, recall_svm, recall_xgb, recall_knn, recall_keras],\n",
    "    'Precision': [precision_dtc, precision_rf, precision_lr, precision_svm, precision_xgb, precision_knn, precision_keras],\n",
    "    'F1-Score': [f1_dtc, f1_rf, f1_lr, f1_svm, f1_xgb, f1_knn, f1_keras]})\n",
    "\n",
    "resultados.sort_values(by='Recall', ascending=False)"
   ]
  },
  {
   "cell_type": "markdown",
   "metadata": {},
   "source": [
    "---\n",
    "\n",
    "**<h3 style=\"text-align:center;\"> 📊: <u>Gráficas Modelo Ganador</u> 🏆 </h3>**\n",
    "\n",
    "---"
   ]
  },
  {
   "cell_type": "code",
   "execution_count": 17,
   "metadata": {},
   "outputs": [
    {
     "data": {
      "text/plain": [
       "<Figure size 1000x1000 with 0 Axes>"
      ]
     },
     "metadata": {},
     "output_type": "display_data"
    },
    {
     "data": {
      "image/png": "[encoded data removed]",
      "text/plain": [
       "<Figure size 640x480 with 2 Axes>"
      ]
     },
     "metadata": {},
     "output_type": "display_data"
    }
   ],
   "source": [
    "plt.figure(figsize=(10,10))\n",
    "disp_cm = ConfusionMatrixDisplay(confusion_matrix(y_test, pred_xgb))\n",
    "disp_cm.plot(cmap=\"Blues\")\n",
    "plt.title(\"Matriz de Confusión\");"
   ]
  },
  {
   "cell_type": "code",
   "execution_count": null,
   "metadata": {},
   "outputs": [
    {
     "data": {
      "image/png": "[encoded data removed]",
      "text/plain": [
       "<Figure size 640x480 with 1 Axes>"
      ]
     },
     "metadata": {},
     "output_type": "display_data"
    }
   ],
   "source": [
    "\n",
    "\n",
    "y_probs = best_xgb.predict_proba(X_test)[:, 1]\n",
    "fpr, tpr, _ = roc_curve(y_test, y_probs)\n",
    "roc_auc = auc(fpr, tpr)\n",
    "\n",
    "plt.plot(fpr, tpr, label=f\"Curva ROC (AUC = {roc_auc:.2f})\", lw=2, color=\"blue\")\n",
    "plt.plot([0, 1], [0, 1], linestyle=\"--\", color=\"grey\", lw=1)\n",
    "plt.title(\"Curva ROC\")\n",
    "plt.xlabel(\"Tasa de Falsos Positivos (FPR)\")\n",
    "plt.ylabel(\"Tasa de Verdaderos Positivos (TPR)\")\n",
    "plt.legend(loc=\"lower right\")\n",
    "plt.show()\n"
   ]
  },
  {
   "cell_type": "code",
   "execution_count": 13,
   "metadata": {},
   "outputs": [
    {
     "data": {
      "image/png": "[encoded data removed]",
      "text/plain": [
       "<Figure size 640x480 with 1 Axes>"
      ]
     },
     "metadata": {},
     "output_type": "display_data"
    }
   ],
   "source": [
    "importances = best_xgb.feature_importances_\n",
    "sorted_idx = np.argsort(importances)[::-1]\n",
    "\n",
    "plt.barh(range(len(importances)), importances[sorted_idx], align=\"center\")\n",
    "plt.yticks(range(len(importances)), [X_train.columns[i] for i in sorted_idx])\n",
    "plt.title(\"Importancia de Características\")\n",
    "plt.xlabel(\"Importancia\")\n",
    "plt.ylabel(\"Características\")\n",
    "plt.show()"
   ]
  },
  {
   "cell_type": "code",
   "execution_count": null,
   "metadata": {},
   "outputs": [
    {
     "name": "stdout",
     "output_type": "stream",
     "text": [
      "Accuracy en Entrenamiento: 0.98\n",
      "Accuracy en Prueba: 0.94\n",
      "El modelo no sufre de overfitting ni underfitting.\n"
     ]
    }
   ],
   "source": [
    "train_pred = best_xgb.predict(X_train)\n",
    "test_pred = best_xgb.predict(X_test)\n",
    "\n",
    "train_acc = accuracy_score(y_train, train_pred)\n",
    "test_acc = accuracy_score(y_test, test_pred)\n",
    "\n",
    "print(f\"Accuracy en Entrenamiento: {train_acc:.2f}\")\n",
    "print(f\"Accuracy en Prueba: {test_acc:.2f}\")\n",
    "\n",
    "if abs(train_acc - test_acc) < 0.05:\n",
    "    print(\"El modelo no sufre de overfitting ni underfitting.\")\n",
    "elif train_acc > test_acc:\n",
    "    print(\"El modelo podría estar sufriendo de overfitting.\")\n",
    "else:\n",
    "    print(\"El modelo podría estar sufriendo de underfitting.\")\n"
   ]
  },
  {
   "cell_type": "code",
   "execution_count": null,
   "metadata": {},
   "outputs": [
    {
     "data": {
      "image/png": "[encoded data removed]",
      "text/plain": [
       "<Figure size 640x480 with 1 Axes>"
      ]
     },
     "metadata": {},
     "output_type": "display_data"
    }
   ],
   "source": [
    "train_sizes, train_scores, test_scores = learning_curve(\n",
    "    best_xgb, X_train, y_train, cv=5, scoring=\"accuracy\", n_jobs=-1\n",
    ")\n",
    "\n",
    "train_mean = np.mean(train_scores, axis=1)\n",
    "test_mean = np.mean(test_scores, axis=1)\n",
    "\n",
    "plt.plot(train_sizes, train_mean, label=\"Entrenamiento\", color=\"blue\")\n",
    "plt.plot(train_sizes, test_mean, label=\"Validación\", color=\"orange\")\n",
    "plt.title(\"Curvas de Aprendizaje\")\n",
    "plt.xlabel(\"Tamaño del conjunto de entrenamiento\")\n",
    "plt.ylabel(\"Precisión\")\n",
    "plt.legend(loc=\"best\")\n",
    "plt.show()"
   ]
  }
 ],
 "metadata": {
  "kernelspec": {
   "display_name": "Python 3",
   "language": "python",
   "name": "python3"
  },
  "language_info": {
   "codemirror_mode": {
    "name": "ipython",
    "version": 3
   },
   "file_extension": ".py",
   "mimetype": "text/x-python",
   "name": "python",
   "nbconvert_exporter": "python",
   "pygments_lexer": "ipython3",
   "version": "3.12.3"
  }
 },
 "nbformat": 4,
 "nbformat_minor": 2
}
