{
 "cells": [
  {
   "cell_type": "markdown",
   "metadata": {},
   "source": [
    "___\n",
    "<h3 style=\"text-align:center;\">⚠️ Entrenamiento de <u>modelos</u> ⚠️\n",
    "</h3>\n",
    "\n",
    "---"
   ]
  },
  {
   "cell_type": "markdown",
   "metadata": {},
   "source": [
    "<h3 style=\"text-align:center;\">📚🔧\n",
    "</h3>"
   ]
  },
  {
   "cell_type": "code",
   "execution_count": null,
   "metadata": {},
   "outputs": [],
   "source": [
    "# Importacion de Librerías:\n",
    "import pandas as pd\n",
    "import numpy as np\n",
    "\n",
    "from sklearn.model_selection import RandomizedSearchCV\n",
    "from sklearn.tree import DecisionTreeClassifier\n",
    "from sklearn.metrics import classification_report\n",
    "from sklearn.metrics import accuracy_score, precision_score, recall_score, confusion_matrix\n",
    "\n",
    "import pickle\n",
    "import yaml"
   ]
  },
  {
   "cell_type": "markdown",
   "metadata": {},
   "source": [
    "---\n",
    "**<h3 style=\"text-align:center;\">📚🔧: División: <u>X_train</u> , <u>y_train</u> , <u>X_test</u> , <u>y_test</u></h3>**"
   ]
  },
  {
   "cell_type": "markdown",
   "metadata": {},
   "source": [
    "**X_train + y_train:**"
   ]
  },
  {
   "cell_type": "code",
   "execution_count": 24,
   "metadata": {},
   "outputs": [],
   "source": [
    "df_train = pd.read_csv('../data/train.csv', index_col='Unnamed: 0')\n",
    "\n",
    "X_train = df_train.drop('Diagnosis', axis=1)\n",
    "y_train = df_train['Diagnosis']"
   ]
  },
  {
   "cell_type": "markdown",
   "metadata": {},
   "source": [
    "**X_test + y_test:**"
   ]
  },
  {
   "cell_type": "code",
   "execution_count": 25,
   "metadata": {},
   "outputs": [],
   "source": [
    "df_test = pd.read_csv('../data/test.csv', index_col='Unnamed: 0')\n",
    "\n",
    "X_test = df_test.drop('Diagnosis', axis=1)\n",
    "y_test = df_test['Diagnosis']"
   ]
  },
  {
   "cell_type": "markdown",
   "metadata": {},
   "source": [
    "**☑️ Check Dimensiones:**"
   ]
  },
  {
   "cell_type": "code",
   "execution_count": 21,
   "metadata": {},
   "outputs": [
    {
     "name": "stdout",
     "output_type": "stream",
     "text": [
      "Forma de X_train: (1125, 10)\n",
      "Forma de y_train: (1125,)\n",
      "Forma de X_test: (375, 10)\n",
      "Forma de y_test: (375,)\n"
     ]
    }
   ],
   "source": [
    "# Forma de variables de entrenamiento y comevaluación:\n",
    "print('Forma de X_train:', X_train.shape)\n",
    "print('Forma de y_train:', y_train.shape)\n",
    "print('Forma de X_test:', X_test.shape)\n",
    "print('Forma de y_test:', y_test.shape)"
   ]
  },
  {
   "cell_type": "markdown",
   "metadata": {},
   "source": [
    "---\n",
    "**<h3 style=\"text-align:center;\">🤖¹ : <u>DecisionTreeClassifier</u>🌳 +  <u>RandomizedSearchCV</u>🔄</h3>**"
   ]
  },
  {
   "cell_type": "markdown",
   "metadata": {},
   "source": [
    "**🏋️‍♂️ Entrenamiento:**"
   ]
  },
  {
   "cell_type": "code",
   "execution_count": 27,
   "metadata": {},
   "outputs": [
    {
     "name": "stdout",
     "output_type": "stream",
     "text": [
      "Mejores parámetros: {'min_samples_split': np.int64(6), 'min_samples_leaf': np.int64(3), 'max_depth': np.int64(9), 'criterion': 'entropy'}\n",
      "Mejor puntuación de validación: 0.8728888888888889\n"
     ]
    },
    {
     "name": "stderr",
     "output_type": "stream",
     "text": [
      "c:\\Python312\\Lib\\site-packages\\numpy\\ma\\core.py:2881: RuntimeWarning: invalid value encountered in cast\n",
      "  _data = np.array(data, dtype=dtype, copy=copy,\n"
     ]
    }
   ],
   "source": [
    "modelo_dtc = DecisionTreeClassifier()\n",
    "\n",
    "\n",
    "params_dtc = {\n",
    "    'max_depth': np.arange(1, 20),\n",
    "    'min_samples_split': np.arange(2, 20),\n",
    "    'min_samples_leaf': np.arange(1, 20),\n",
    "    'criterion': ['gini', 'entropy']\n",
    "}\n",
    "\n",
    "rs_dtc = RandomizedSearchCV(\n",
    "    modelo_dtc, param_distributions=params_dtc,\n",
    "    n_iter=50, scoring='accuracy', cv=5, random_state=42, n_jobs=-1\n",
    ")\n",
    "\n",
    "rs_dtc.fit(X_train, y_train)\n",
    "\n",
    "print(\"Mejores parámetros:\", rs_dtc.best_params_)\n",
    "print(\"Mejor puntuación de validación:\", rs_dtc.best_score_)"
   ]
  },
  {
   "cell_type": "markdown",
   "metadata": {},
   "source": [
    "**🔮 Predicciones:**"
   ]
  },
  {
   "cell_type": "code",
   "execution_count": null,
   "metadata": {},
   "outputs": [
    {
     "data": {
      "text/html": [
       "<div>\n",
       "<style scoped>\n",
       "    .dataframe tbody tr th:only-of-type {\n",
       "        vertical-align: middle;\n",
       "    }\n",
       "\n",
       "    .dataframe tbody tr th {\n",
       "        vertical-align: top;\n",
       "    }\n",
       "\n",
       "    .dataframe thead th {\n",
       "        text-align: right;\n",
       "    }\n",
       "</style>\n",
       "<table border=\"1\" class=\"dataframe\">\n",
       "  <thead>\n",
       "    <tr style=\"text-align: right;\">\n",
       "      <th></th>\n",
       "      <th>y_real</th>\n",
       "      <th>y_pred</th>\n",
       "    </tr>\n",
       "  </thead>\n",
       "  <tbody>\n",
       "    <tr>\n",
       "      <th>1116</th>\n",
       "      <td>1</td>\n",
       "      <td>1</td>\n",
       "    </tr>\n",
       "    <tr>\n",
       "      <th>1368</th>\n",
       "      <td>1</td>\n",
       "      <td>1</td>\n",
       "    </tr>\n",
       "    <tr>\n",
       "      <th>422</th>\n",
       "      <td>0</td>\n",
       "      <td>0</td>\n",
       "    </tr>\n",
       "    <tr>\n",
       "      <th>413</th>\n",
       "      <td>0</td>\n",
       "      <td>0</td>\n",
       "    </tr>\n",
       "    <tr>\n",
       "      <th>451</th>\n",
       "      <td>0</td>\n",
       "      <td>0</td>\n",
       "    </tr>\n",
       "    <tr>\n",
       "      <th>...</th>\n",
       "      <td>...</td>\n",
       "      <td>...</td>\n",
       "    </tr>\n",
       "    <tr>\n",
       "      <th>155</th>\n",
       "      <td>1</td>\n",
       "      <td>1</td>\n",
       "    </tr>\n",
       "    <tr>\n",
       "      <th>1151</th>\n",
       "      <td>0</td>\n",
       "      <td>0</td>\n",
       "    </tr>\n",
       "    <tr>\n",
       "      <th>1141</th>\n",
       "      <td>0</td>\n",
       "      <td>0</td>\n",
       "    </tr>\n",
       "    <tr>\n",
       "      <th>974</th>\n",
       "      <td>0</td>\n",
       "      <td>1</td>\n",
       "    </tr>\n",
       "    <tr>\n",
       "      <th>1057</th>\n",
       "      <td>0</td>\n",
       "      <td>0</td>\n",
       "    </tr>\n",
       "  </tbody>\n",
       "</table>\n",
       "<p>375 rows × 2 columns</p>\n",
       "</div>"
      ],
      "text/plain": [
       "      y_real  y_pred\n",
       "1116       1       1\n",
       "1368       1       1\n",
       "422        0       0\n",
       "413        0       0\n",
       "451        0       0\n",
       "...      ...     ...\n",
       "155        1       1\n",
       "1151       0       0\n",
       "1141       0       0\n",
       "974        0       1\n",
       "1057       0       0\n",
       "\n",
       "[375 rows x 2 columns]"
      ]
     },
     "execution_count": 28,
     "metadata": {},
     "output_type": "execute_result"
    }
   ],
   "source": [
    "best_dtc = rs_dtc.best_estimator_\n",
    "\n",
    "pred_dtc = best_dtc.predict(X_test)\n",
    "\n",
    "df_predicciones_dtc = pd.DataFrame({'y_real': y_test,  \n",
    "                                'y_pred': pred_dtc})\n",
    "\n",
    "df_predicciones_dtc"
   ]
  },
  {
   "cell_type": "markdown",
   "metadata": {},
   "source": [
    "**✔️ Evaluación:**"
   ]
  },
  {
   "cell_type": "code",
   "execution_count": null,
   "metadata": {},
   "outputs": [
    {
     "name": "stdout",
     "output_type": "stream",
     "text": [
      "accuracy: 0.8853333333333333\n",
      "recall: 0.823943661971831\n",
      "precission: 0.8666666666666667\n",
      "\n",
      "----------------------------------------------\n",
      "\n",
      "confusion_matrix:\n",
      " [[215  18]\n",
      " [ 25 117]]\n"
     ]
    }
   ],
   "source": [
    "print('accuracy:',accuracy_score(y_test, pred_dtc))\n",
    "print('recall:',recall_score(y_test,pred_dtc))\n",
    "print('precission:', precision_score(y_test, pred_dtc))\n",
    "\n",
    "print('\\n----------------------------------------------\\n')\n",
    "\n",
    "print('confusion_matrix:\\n',confusion_matrix(y_test, pred_dtc))"
   ]
  },
  {
   "cell_type": "code",
   "execution_count": null,
   "metadata": {},
   "outputs": [
    {
     "name": "stdout",
     "output_type": "stream",
     "text": [
      "              precision    recall  f1-score   support\n",
      "\n",
      "           0       0.90      0.92      0.91       233\n",
      "           1       0.87      0.82      0.84       142\n",
      "\n",
      "    accuracy                           0.89       375\n",
      "   macro avg       0.88      0.87      0.88       375\n",
      "weighted avg       0.88      0.89      0.88       375\n",
      "\n"
     ]
    }
   ],
   "source": [
    "print(classification_report(y_test, pred_dtc))"
   ]
  },
  {
   "cell_type": "markdown",
   "metadata": {},
   "source": [
    "**💾 Guardar Modelo + Config:**"
   ]
  },
  {
   "cell_type": "code",
   "execution_count": 45,
   "metadata": {},
   "outputs": [],
   "source": [
    "with open('../models/DecissionTree_RandomSearchCV/model_DTCRSCV.pkl', 'wb') as archivo:\n",
    "    pickle.dump(best_dtc, archivo)"
   ]
  },
  {
   "cell_type": "code",
   "execution_count": 46,
   "metadata": {},
   "outputs": [],
   "source": [
    "configuracion = {\n",
    "    'modelo': 'DecisionTreeClassifier',\n",
    "    'mejores_parametros': rs_dtc.best_params_,\n",
    "    'mejor_puntuacion': rs_dtc.best_score_,\n",
    "    'configuracion_busqueda': {\n",
    "        'n_iter': 50,\n",
    "        'scoring': 'accuracy',\n",
    "        'cv': 5,\n",
    "        'random_state': 42\n",
    "    }\n",
    "}\n",
    "\n",
    "with open('../models/DecissionTree_RandomSearchCV/config_DTCRSCV.yaml', 'w') as archivo:\n",
    "    yaml.dump(configuracion, archivo)"
   ]
  },
  {
   "cell_type": "markdown",
   "metadata": {},
   "source": [
    "---\n",
    "**<h3 style=\"text-align:center;\">🤖² : <u>RandomForestClassifier</u>🌳 +  <u>RandomizedSearchCV</u>🔄</h3>**"
   ]
  },
  {
   "cell_type": "markdown",
   "metadata": {},
   "source": [
    "**🏋️‍♂️ Entrenamiento:**"
   ]
  },
  {
   "cell_type": "markdown",
   "metadata": {},
   "source": [
    "**🔮 Predicciones:**"
   ]
  },
  {
   "cell_type": "markdown",
   "metadata": {},
   "source": [
    "**✔️ Evaluación:**"
   ]
  },
  {
   "cell_type": "markdown",
   "metadata": {},
   "source": [
    "**💾 Guardar Modelo + Config:**"
   ]
  },
  {
   "cell_type": "markdown",
   "metadata": {},
   "source": [
    "---\n",
    "**<h3 style=\"text-align:center;\">🤖³ :</h3>**"
   ]
  },
  {
   "cell_type": "markdown",
   "metadata": {},
   "source": [
    "**🏋️‍♂️ Entrenamiento:**"
   ]
  },
  {
   "cell_type": "markdown",
   "metadata": {},
   "source": [
    "**🔮 Predicciones:**"
   ]
  },
  {
   "cell_type": "markdown",
   "metadata": {},
   "source": [
    "**✔️ Evaluación:**"
   ]
  },
  {
   "cell_type": "markdown",
   "metadata": {},
   "source": [
    "**💾 Guardar Modelo + Config:**"
   ]
  },
  {
   "cell_type": "markdown",
   "metadata": {},
   "source": [
    "---\n",
    "**<h3 style=\"text-align:center;\">🤖⁴ :</h3>**"
   ]
  },
  {
   "cell_type": "markdown",
   "metadata": {},
   "source": [
    "**🏋️‍♂️ Entrenamiento:**"
   ]
  },
  {
   "cell_type": "markdown",
   "metadata": {},
   "source": [
    "**🔮 Predicciones:**"
   ]
  },
  {
   "cell_type": "markdown",
   "metadata": {},
   "source": [
    "**✔️ Evaluación:**"
   ]
  },
  {
   "cell_type": "markdown",
   "metadata": {},
   "source": [
    "**💾 Guardar Modelo + Config:**"
   ]
  },
  {
   "cell_type": "markdown",
   "metadata": {},
   "source": [
    "---\n",
    "**<h3 style=\"text-align:center;\">🤖⁵ :</h3>**"
   ]
  },
  {
   "cell_type": "markdown",
   "metadata": {},
   "source": [
    "**🏋️‍♂️ Entrenamiento:**"
   ]
  },
  {
   "cell_type": "markdown",
   "metadata": {},
   "source": [
    "**🔮 Predicciones:**\n"
   ]
  },
  {
   "cell_type": "markdown",
   "metadata": {},
   "source": [
    "**✔️ Evaluación:**\n"
   ]
  },
  {
   "cell_type": "markdown",
   "metadata": {},
   "source": [
    "**💾 Guardar Modelo + Config:**\n"
   ]
  }
 ],
 "metadata": {
  "kernelspec": {
   "display_name": "Python 3",
   "language": "python",
   "name": "python3"
  },
  "language_info": {
   "codemirror_mode": {
    "name": "ipython",
    "version": 3
   },
   "file_extension": ".py",
   "mimetype": "text/x-python",
   "name": "python",
   "nbconvert_exporter": "python",
   "pygments_lexer": "ipython3",
   "version": "3.12.3"
  }
 },
 "nbformat": 4,
 "nbformat_minor": 2
}
